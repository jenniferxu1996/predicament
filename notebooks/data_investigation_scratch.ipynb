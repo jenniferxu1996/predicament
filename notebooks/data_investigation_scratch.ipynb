{
 "cells": [
  {
   "cell_type": "code",
   "execution_count": 5,
   "id": "e361c467",
   "metadata": {},
   "outputs": [],
   "source": [
    "import json\n",
    "import re \n",
    "import copy\n",
    "from importlib import reload\n",
    "import pandas as pd\n"
   ]
  },
  {
   "cell_type": "code",
   "execution_count": 2,
   "id": "3e624556",
   "metadata": {},
   "outputs": [
    {
     "name": "stdout",
     "output_type": "stream",
     "text": [
      "thisdir = /home/luke/git/external/predicament/notebooks\n",
      "Adding parent directory to python path\n",
      "sys.path =\n",
      "['/home/luke/git/external/predicament/notebooks', '/home/luke/git/external/predicament', '/usr/lib/python310.zip', '/usr/lib/python3.10', '/usr/lib/python3.10/lib-dynload', '', '/home/luke/.local/lib/python3.10/site-packages', '/usr/local/lib/python3.10/dist-packages', '/usr/lib/python3/dist-packages', '/usr/lib/python3.10/dist-packages']\n"
     ]
    }
   ],
   "source": [
    "# This is a hack to make the library in the parent folder available for imoprts\n",
    "# A better solution is by np8 here:\n",
    "# https://stackoverflow.com/questions/714063/importing-modules-from-parent-folder\n",
    "import sys\n",
    "import os\n",
    "import inspect\n",
    "\n",
    "thisdir = sys.path[0]\n",
    "print(f\"thisdir = {thisdir}\")\n",
    "parentdir = os.path.dirname(thisdir)\n",
    "#print(f\"parentdir = {parentdir}\")\n",
    "if not parentdir in sys.path:\n",
    "    print(\"Adding parent directory to python path\")\n",
    "    sys.path.insert(1, parentdir)\n",
    "else:\n",
    "    print(\"Skipping adding parent direct to path (there already)\")\n",
    "\n",
    "print(f\"sys.path =\\n{sys.path}\")\n",
    "\n"
   ]
  },
  {
   "cell_type": "markdown",
   "id": "97ad0349",
   "metadata": {},
   "source": [
    "## Configuration\n",
    "\n",
    "This is controlled from `predicament.utils.config`. This tells us: what data is there, and some of the characteristics of that data.\n",
    "\n",
    "We also have `predicament.utils.file_utils` which controls file, directory and time stamp information.\n",
    "\n"
   ]
  },
  {
   "cell_type": "code",
   "execution_count": 3,
   "id": "3360cb18",
   "metadata": {},
   "outputs": [
    {
     "name": "stdout",
     "output_type": "stream",
     "text": [
      "base_data_folder = ../data\n",
      "motor_movement_data_folder = ../data/EEG-Motor-Movement-Imagery-Dataset/\n",
      "E4_file_paths = {'VG_01': './VG01/E4_8921_15_44/', 'VG_03': './VG03/E4_9921_12_16/', 'VG_05': './VG05/E4_9921_13_24/', 'VG_06': './VG06/E4_51021_13_33/', 'VG_07': './VG07/E4_51021_15_39/', 'VG_08': './VG08/E4_71021_10_42/', 'VG_09': './VG09/E4_11221_14_46/', 'VG_10': './VG10/E4_31221_11_17/', 'VH_01': './VH01/E4_61021_11_03/', 'VH_02': './VH02/E4_61021_13_59/', 'VH_03': './VH03/E4_11221_11_22/'}\n",
      "VG_file_paths = {'VG_01': './VG01/8921_15_52.edf', 'VG_02': './VG02/7921_15_18.edf', 'VG_03': './VG03/90921_12_20.edf', 'VG_05': './VG05/90921_13_27.edf', 'VG_06': './VG06/51021_13_40.edf', 'VG_08': './VG08/71021_10_44.edf', 'VG_09': './VG09/11221_14_59.edf', 'VG_10': './VG10/31221_11_24.edf', 'VH_01': './VH01/61021_11_17.edf', 'VH_02': './VH02/61021_14_3.edf', 'VH_03': './VH03/11221_11_21.edf'}\n",
      "\tThis is a dictionary of participant ID to edf file subpaths\n",
      "\n",
      "DREEM_EDF_CHANNELS = ['Accelero Norm', 'EEG Fpz-O1', 'EEG Fpz-O2', 'EEG Fpz-F7', 'EEG F8-F7', 'EEG F7-01', 'EEG F8-O2', 'EEG Fpz-F8', 'Positiongram', 'PulseOxy Infrare', 'PulseOxy Red Hea', 'Respiration x', 'Respiration y', 'Respiration z']\n",
      "VG_Hz = 250\n",
      "EEG_buffer = 30\n",
      "E4_buffer = 30\n"
     ]
    }
   ],
   "source": [
    "# for the notebook we need to modify the BASE_DATA_FOLDER\n",
    "import os \n",
    "os.environ['PREDICAMENT_DATA_DIR'] =  '../data'\n",
    "\n",
    "from predicament.utils.config import BASE_DATA_FOLDER\n",
    "from predicament.utils.config import STUDY_DATA_FOLDER\n",
    "from predicament.utils.config import MOTOR_MOVEMENT_DATA_FOLDER\n",
    "\n",
    "from predicament.utils.config import DREEM_EDF_CHANNELS\n",
    "\n",
    "\n",
    "from predicament.utils.config import E4_file_paths\n",
    "from predicament.utils.config import VG_file_paths\n",
    "from predicament.utils.config import VG_Hz\n",
    "from predicament.utils.config import EEG_buffer\n",
    "from predicament.utils.config import E4_buffer\n",
    "\n",
    "print(f\"BASE_DATA_FOLDER = {BASE_DATA_FOLDER}\")\n",
    "print(f\"MOTOR_MOVEMENT_DATA_FOLDER = {MOTOR_MOVEMENT_DATA_FOLDER}\")\n",
    "print(f\"E4_file_paths = {E4_file_paths}\")\n",
    "\n",
    "\n",
    "print(f\"VG_file_paths = {VG_file_paths}\")\n",
    "print(\"\\tThis is a dictionary of participant ID to edf file subpaths\")\n",
    "\n",
    "print()\n",
    "print(f\"DREEM_EDF_CHANNELS = {DREEM_EDF_CHANNELS}\")\n",
    "print(f\"VG_Hz = {VG_Hz}\")\n",
    "print(f\"EEG_buffer = {EEG_buffer}\")\n",
    "print(f\"E4_buffer = {E4_buffer}\")\n"
   ]
  },
  {
   "cell_type": "markdown",
   "id": "33beb974",
   "metadata": {},
   "source": [
    "## Creating a workable set of data objects\n",
    "\n",
    "We need some timeseries data of EEG traces and some information regarding the human-level events that took place. Then we need to integrate the two."
   ]
  },
  {
   "cell_type": "code",
   "execution_count": null,
   "id": "d309a721",
   "metadata": {},
   "outputs": [],
   "source": [
    "from Ray import EEG_data\n",
    "\n",
    "EEG_files = EEG_data.read_all_VG_files()\n",
    "EEG_files"
   ]
  },
  {
   "cell_type": "code",
   "execution_count": null,
   "id": "b3c9cb88",
   "metadata": {},
   "outputs": [],
   "source": [
    "from Ray.data_load_save import load_info_from_csv\n",
    "ev_details = load_info_from_csv()"
   ]
  },
  {
   "cell_type": "code",
   "execution_count": null,
   "id": "b3d0e30c",
   "metadata": {},
   "outputs": [],
   "source": [
    "for partID, EEG in EEG_files.items():\n",
    "    EEG.set_event_details(ev_details[partID])"
   ]
  },
  {
   "cell_type": "code",
   "execution_count": null,
   "id": "c9224ed9",
   "metadata": {},
   "outputs": [],
   "source": [
    "EEG_files['VG_01'].event_details\n",
    "EEG_files['VG_01'].EEG_data\n"
   ]
  },
  {
   "cell_type": "code",
   "execution_count": null,
   "id": "774e2fb1",
   "metadata": {},
   "outputs": [],
   "source": [
    "from Ray.EEG_data import read_VG_file\n",
    "\n",
    "# Understanding EEG_data_obj\n",
    "\n",
    "# We'll call read_VG_file to create one such object.\n",
    "# This requires a participant ID and a list of excluded channels\n",
    "part_ID = 'VG_01'\n",
    "exclude_channels = []\n",
    "EEG_data_obj = read_VG_file(part_ID)\n",
    "\n",
    "print(f\"EEG_data_obj = {EEG_data_obj}\")\n",
    "print(f\"list(EEG_data_obj.EEG_data.keys()) = {list(EEG_data_obj.EEG_data.keys())}\")\n",
    "channel_data = EEG_data_obj.EEG_data['EEG Fpz-O1']\n",
    "print(f\"type(channel_data) = {type(channel_data)}\")\n",
    "print(f\"channel_data.shape = {channel_data.shape}\")\n",
    "print(f\"channel_data[:10] = {channel_data[:10]}\")\n"
   ]
  },
  {
   "cell_type": "code",
   "execution_count": null,
   "id": "05b6aba0",
   "metadata": {
    "scrolled": true
   },
   "outputs": [],
   "source": [
    "from predicament.utils.config import DREEM_EDF_CHANNELS\n",
    "part_ID = 'VG_02'\n",
    "include_channels = ['Accelero Norm', 'EEG Fpz-O1', 'EEG Fpz-O2', 'EEG Fpz-F7', 'EEG F8-F7', 'EEG F7-01', 'EEG F8-O2', 'EEG Fpz-F8', 'Positiongram', 'PulseOxy Infrare', 'PulseOxy Red Hea', 'Respiration x', 'Respiration y', 'Respiration z']\n",
    "EEG_data_obj2 = read_VG_file(part_ID, include_channels = DREEM_EDF_CHANNELS)\n"
   ]
  },
  {
   "cell_type": "code",
   "execution_count": null,
   "id": "7e9723fd",
   "metadata": {},
   "outputs": [],
   "source": [
    "for ch_name, data in EEG_data_obj2.EEG_data.items():\n",
    "    print(f\"Channel {ch_name} has {len(data)} items\")"
   ]
  },
  {
   "cell_type": "code",
   "execution_count": null,
   "id": "451030ae",
   "metadata": {},
   "outputs": [],
   "source": [
    "import pandas as pd\n",
    "event_details_path = '../data/CARE_HOME_DATA/event_details.csv'\n",
    "exp_info_path = '../data/CARE_HOME_DATA/exp_info.csv'\n",
    "\n",
    "event_details_df = pd.read_csv(event_details_path, index_col=0)\n",
    "exp_info_df = pd.read_csv(exp_info_path, index_col=0)\n",
    "\n",
    "part_list = list(exp_info_df.index)\n",
    "ev_details = {}\n",
    "\n",
    "for partID in part_list:\n",
    "    ev_detail = Event_time_details(partID)\n",
    "    ev_detail.set_exp_datetime(exp_info_df.loc[partID]['date'], exp_info_df.loc[partID]['exp_start'])    \n",
    "    for event in event_details_df.loc[partID,].iterrows():\n",
    "        start = str(event[1]['start']) if event[1]['start'] != 'None' else None\n",
    "        end = str(event[1]['end']) if event[1]['end'] != 'None' else None\n",
    "        print(f\"partID: end = {partID}:{end}\")\n",
    "        ev_detail.set_event(event[1]['event'], start, end, event[1]['valid'])\n",
    "    ev_details[partID] = ev_detail\n"
   ]
  },
  {
   "cell_type": "code",
   "execution_count": null,
   "id": "69e12be7",
   "metadata": {},
   "outputs": [],
   "source": [
    "partID = 'VG_01'\n",
    "for event in event_details_df.loc[partID].iterrows():\n",
    "    print(event)\n",
    "float.nan"
   ]
  },
  {
   "cell_type": "code",
   "execution_count": null,
   "id": "84c178cb",
   "metadata": {},
   "outputs": [],
   "source": [
    "import mne\n",
    "VG_file_path = os.path.join(STUDY_DATA_FOLDER, VG_file_paths[part_ID])\n",
    "mne_Raw_obj = mne.io.read_raw_edf(VG_file_path, exclude =[])\n",
    "print(type(mne_Raw_obj))\n",
    "print(f\"mne_Raw_obj.ch_names = {mne_Raw_obj.ch_names}\")\n",
    "mne_Raw_obj.info"
   ]
  },
  {
   "cell_type": "code",
   "execution_count": null,
   "id": "7954ebb7",
   "metadata": {},
   "outputs": [],
   "source": [
    "to_pick = ['EEG Fpz-O1', 'EEG Fpz-O2', 'EEG Fpz-F7', 'EEG F8-F7', 'EEG F7-01', 'EEG F8-O2', 'EEG Fpz-F8']\n",
    "mne_Raw_obj.pick(to_pick)\n",
    "print(f\"mne_Raw_obj.ch_names = {mne_Raw_obj.ch_names}\")\n",
    "\n",
    "mne_Raw_obj"
   ]
  },
  {
   "cell_type": "code",
   "execution_count": null,
   "id": "cc4048b6",
   "metadata": {},
   "outputs": [],
   "source": [
    "from Ray import EEG_data, E4_data\n",
    "from predicament.utils.config import data_folder, VG_file_paths, VG_Hz, EEG_buffer\n",
    "from Ray.Event_details import Event_time_details\n",
    "from Ray.data_load_save import save_info_to_csv\n",
    "\n",
    "save_info_to_csv()"
   ]
  },
  {
   "cell_type": "code",
   "execution_count": null,
   "id": "b444f910",
   "metadata": {},
   "outputs": [],
   "source": [
    "# resulting output from following call is\n",
    "# dictionary str to type EEG_data_obj\n",
    "# where EEG_data_obj is defined in Ray.EEG_data\n",
    "\n",
    "all_eeg_data = EEG_data.read_all_VG_files()\n",
    "event_details_dic = {\n",
    "    'partID': [],\n",
    "    'event': [],\n",
    "    'start': [],\n",
    "    'end': [],\n",
    "    'valid': []\n",
    "}\n",
    "\n",
    "exp_info_dic = {\n",
    "    'partID': [],\n",
    "    'date': [],\n",
    "    'exp_start': []\n",
    "}"
   ]
  },
  {
   "cell_type": "code",
   "execution_count": null,
   "id": "3d68c462",
   "metadata": {},
   "outputs": [],
   "source": [
    "all_eeg_data['VG_05'].event_details.events_info.items()"
   ]
  },
  {
   "cell_type": "code",
   "execution_count": null,
   "id": "7de36fb0",
   "metadata": {},
   "outputs": [],
   "source": [
    "event_ids = dict(familiar_music=1, wildlife_video=2, family_inter=3, Tchaikovsky=4, exper_video=5)\n",
    "event_ids['familiar_music']"
   ]
  },
  {
   "cell_type": "code",
   "execution_count": null,
   "id": "8b3bbce7",
   "metadata": {},
   "outputs": [],
   "source": [
    "from Ray.data_load_save import set_up\n",
    "EEG_files, _ = set_up(isE4 = False)"
   ]
  },
  {
   "cell_type": "code",
   "execution_count": null,
   "id": "476390bd",
   "metadata": {},
   "outputs": [],
   "source": [
    "EEG_files['VG_01'].event_details.events_info"
   ]
  },
  {
   "cell_type": "markdown",
   "id": "07258207",
   "metadata": {},
   "source": [
    "## Train/test data (evaluation data)\n",
    "\n",
    "\n",
    "The method `prepare_evaluation_data.py` loads the obervational and eeg data and integrates it to produce some train and test data in 'data/EEG-Motor-Movement-Imagery-Dataset/5classes_part/{train,test}_{set,labels}.csv' (at time of writing). Let's investigate this.\n"
   ]
  },
  {
   "cell_type": "code",
   "execution_count": null,
   "id": "dcfee883",
   "metadata": {},
   "outputs": [],
   "source": [
    "import pandas as pd\n",
    "test_set_fname = '../data/EEG-Motor-Movement-Imagery-Dataset/5classes_part/test_set.csv'\n",
    "\n",
    "test_set_df = pd.read_csv(test_set_fname, header=None)\n",
    "\n",
    "test_set_df"
   ]
  },
  {
   "cell_type": "code",
   "execution_count": null,
   "id": "3c3ccc75",
   "metadata": {},
   "outputs": [],
   "source": [
    "4096/250"
   ]
  },
  {
   "cell_type": "markdown",
   "id": "04796d30",
   "metadata": {},
   "source": []
  },
  {
   "cell_type": "markdown",
   "id": "cfabf3b9",
   "metadata": {},
   "source": [
    "## Time-series data\n",
    "\n"
   ]
  },
  {
   "cell_type": "code",
   "execution_count": null,
   "id": "e87559d2",
   "metadata": {},
   "outputs": [],
   "source": [
    "from Ray import data_load_save\n",
    "EEG_files, E4_files = data_load_save.set_up(\n",
    "    isEEG=True, isE4=False)\n",
    "    # file_utils.gen_train_test_valid(EEG_files)"
   ]
  },
  {
   "cell_type": "code",
   "execution_count": null,
   "id": "6e87f7bb",
   "metadata": {},
   "outputs": [],
   "source": [
    "import matplotlib.pyplot as plt\n",
    "# Visualize VG data (EEG 250Hz)\n",
    "EEG_partID, EEG_channel, EEG_event = 'VG_06', 'EEG Fpz-O1', 'familiar_music'\n",
    "plt.plot(EEG_files[EEG_partID].get_EEG_by_channel_and_event(EEG_channel, EEG_event), label = EEG_channel)\n",
    "plt.plot(EEG_files[EEG_partID].get_EEG_by_channel_and_event('EEG F7-01', EEG_event), label = 'F7-01')\n",
    "plt.plot(EEG_files[EEG_partID].get_EEG_by_channel_and_event('EEG Fpz-F8', EEG_event), label = 'Fpz-F8')"
   ]
  },
  {
   "cell_type": "markdown",
   "id": "6b28d332",
   "metadata": {},
   "source": [
    "## Study Events\n",
    "\n",
    "\n"
   ]
  },
  {
   "cell_type": "code",
   "execution_count": 6,
   "id": "fa1f082e",
   "metadata": {},
   "outputs": [
    {
     "name": "stdout",
     "output_type": "stream",
     "text": [
      "event_details_path = ../data/CARE_HOME_DATA/./event_details.csv\n",
      "event_details_df.loc['VG_01'] =                  event     start       end  valid\n",
      "partID                                           \n",
      "VG_01            setup  15:52:00      None   True\n",
      "VG_01         baseline  15:52:00      None   True\n",
      "VG_01      exper_video  16:02:00  16:10:00   True\n",
      "VG_01   wildlife_video  15:56:00  16:01:00   True\n",
      "VG_01   familiar_music  16:16:00  16:21:00   True\n",
      "VG_01      Tchaikovsky  16:11:00  16:16:00   True\n",
      "VG_01     family_inter  16:22:00  16:27:00   True\n"
     ]
    }
   ],
   "source": [
    "from predicament.utils.config import EVENT_DETAILS_PATH\n",
    "from predicament.utils.config import EXP_INFO_PATH\n",
    "event_details_path = EVENT_DETAILS_PATH\n",
    "exp_info_path = EXP_INFO_PATH\n",
    "print(f\"event_details_path = {event_details_path}\")\n",
    "event_details_df = pd.read_csv(event_details_path, index_col=0)\n",
    "print(f\"event_details_df.loc['VG_01'] = {event_details_df.loc['VG_01']}\")\n",
    "exp_info_df = pd.read_csv(exp_info_path, index_col=0)"
   ]
  },
  {
   "cell_type": "code",
   "execution_count": 8,
   "id": "4cca4193",
   "metadata": {},
   "outputs": [
    {
     "data": {
      "text/html": [
       "<div>\n",
       "<style scoped>\n",
       "    .dataframe tbody tr th:only-of-type {\n",
       "        vertical-align: middle;\n",
       "    }\n",
       "\n",
       "    .dataframe tbody tr th {\n",
       "        vertical-align: top;\n",
       "    }\n",
       "\n",
       "    .dataframe thead th {\n",
       "        text-align: right;\n",
       "    }\n",
       "</style>\n",
       "<table border=\"1\" class=\"dataframe\">\n",
       "  <thead>\n",
       "    <tr style=\"text-align: right;\">\n",
       "      <th></th>\n",
       "      <th>event</th>\n",
       "      <th>start</th>\n",
       "      <th>end</th>\n",
       "      <th>valid</th>\n",
       "    </tr>\n",
       "    <tr>\n",
       "      <th>partID</th>\n",
       "      <th></th>\n",
       "      <th></th>\n",
       "      <th></th>\n",
       "      <th></th>\n",
       "    </tr>\n",
       "  </thead>\n",
       "  <tbody>\n",
       "    <tr>\n",
       "      <th>VG_01</th>\n",
       "      <td>setup</td>\n",
       "      <td>15:52:00</td>\n",
       "      <td>None</td>\n",
       "      <td>True</td>\n",
       "    </tr>\n",
       "    <tr>\n",
       "      <th>VG_01</th>\n",
       "      <td>baseline</td>\n",
       "      <td>15:52:00</td>\n",
       "      <td>None</td>\n",
       "      <td>True</td>\n",
       "    </tr>\n",
       "    <tr>\n",
       "      <th>VG_01</th>\n",
       "      <td>exper_video</td>\n",
       "      <td>16:02:00</td>\n",
       "      <td>16:10:00</td>\n",
       "      <td>True</td>\n",
       "    </tr>\n",
       "    <tr>\n",
       "      <th>VG_01</th>\n",
       "      <td>wildlife_video</td>\n",
       "      <td>15:56:00</td>\n",
       "      <td>16:01:00</td>\n",
       "      <td>True</td>\n",
       "    </tr>\n",
       "    <tr>\n",
       "      <th>VG_01</th>\n",
       "      <td>familiar_music</td>\n",
       "      <td>16:16:00</td>\n",
       "      <td>16:21:00</td>\n",
       "      <td>True</td>\n",
       "    </tr>\n",
       "    <tr>\n",
       "      <th>VG_01</th>\n",
       "      <td>Tchaikovsky</td>\n",
       "      <td>16:11:00</td>\n",
       "      <td>16:16:00</td>\n",
       "      <td>True</td>\n",
       "    </tr>\n",
       "    <tr>\n",
       "      <th>VG_01</th>\n",
       "      <td>family_inter</td>\n",
       "      <td>16:22:00</td>\n",
       "      <td>16:27:00</td>\n",
       "      <td>True</td>\n",
       "    </tr>\n",
       "  </tbody>\n",
       "</table>\n",
       "</div>"
      ],
      "text/plain": [
       "                 event     start       end  valid\n",
       "partID                                           \n",
       "VG_01            setup  15:52:00      None   True\n",
       "VG_01         baseline  15:52:00      None   True\n",
       "VG_01      exper_video  16:02:00  16:10:00   True\n",
       "VG_01   wildlife_video  15:56:00  16:01:00   True\n",
       "VG_01   familiar_music  16:16:00  16:21:00   True\n",
       "VG_01      Tchaikovsky  16:11:00  16:16:00   True\n",
       "VG_01     family_inter  16:22:00  16:27:00   True"
      ]
     },
     "execution_count": 8,
     "metadata": {},
     "output_type": "execute_result"
    }
   ],
   "source": [
    "event_details_df.loc['VG_01',]"
   ]
  },
  {
   "cell_type": "code",
   "execution_count": 13,
   "id": "fce36215",
   "metadata": {},
   "outputs": [
    {
     "name": "stdout",
     "output_type": "stream",
     "text": [
      "setup\n",
      "baseline\n",
      "exper_video\n",
      "wildlife_video\n",
      "familiar_music\n",
      "Tchaikovsky\n",
      "family_inter\n"
     ]
    }
   ],
   "source": [
    "for row in event_details_df.loc['VG_01',].iterrows():\n",
    "    print(row[1]['event'])"
   ]
  },
  {
   "cell_type": "code",
   "execution_count": null,
   "id": "1000935c",
   "metadata": {},
   "outputs": [],
   "source": []
  }
 ],
 "metadata": {
  "kernelspec": {
   "display_name": "Python 3 (ipykernel)",
   "language": "python",
   "name": "python3"
  },
  "language_info": {
   "codemirror_mode": {
    "name": "ipython",
    "version": 3
   },
   "file_extension": ".py",
   "mimetype": "text/x-python",
   "name": "python",
   "nbconvert_exporter": "python",
   "pygments_lexer": "ipython3",
   "version": "3.10.6"
  }
 },
 "nbformat": 4,
 "nbformat_minor": 5
}
