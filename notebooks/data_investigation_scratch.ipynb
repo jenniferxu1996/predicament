{
 "cells": [
  {
   "cell_type": "code",
   "execution_count": 2,
   "id": "e361c467",
   "metadata": {},
   "outputs": [],
   "source": [
    "import json\n",
    "import re \n",
    "import copy\n",
    "from importlib import reload\n"
   ]
  },
  {
   "cell_type": "code",
   "execution_count": 3,
   "id": "3e624556",
   "metadata": {},
   "outputs": [
    {
     "name": "stdout",
     "output_type": "stream",
     "text": [
      "thisdir = /home/luke/git/external/predicament/notebooks\n",
      "Adding parent directory to python path\n",
      "sys.path =\n",
      "['/home/luke/git/external/predicament/notebooks', '/home/luke/git/external/predicament', '/usr/lib/python310.zip', '/usr/lib/python3.10', '/usr/lib/python3.10/lib-dynload', '', '/home/luke/.local/lib/python3.10/site-packages', '/usr/local/lib/python3.10/dist-packages', '/usr/lib/python3/dist-packages', '/usr/lib/python3.10/dist-packages']\n"
     ]
    }
   ],
   "source": [
    "# This is a hack to make the library in the parent folder available for imoprts\n",
    "# A better solution is by np8 here:\n",
    "# https://stackoverflow.com/questions/714063/importing-modules-from-parent-folder\n",
    "import sys\n",
    "import os\n",
    "import inspect\n",
    "\n",
    "thisdir = sys.path[0]\n",
    "print(f\"thisdir = {thisdir}\")\n",
    "parentdir = os.path.dirname(thisdir)\n",
    "#print(f\"parentdir = {parentdir}\")\n",
    "if not parentdir in sys.path:\n",
    "    print(\"Adding parent directory to python path\")\n",
    "    sys.path.insert(1, parentdir)\n",
    "else:\n",
    "    print(\"Skipping adding parent direct to path (there already)\")\n",
    "\n",
    "print(f\"sys.path =\\n{sys.path}\")\n",
    "\n"
   ]
  },
  {
   "cell_type": "markdown",
   "id": "97ad0349",
   "metadata": {},
   "source": [
    "## Configuration\n",
    "\n",
    "This is controlled from `predicament.utils.config`. This tells us: what data is there, and some of the characteristics of that data.\n",
    "\n",
    "We also have `predicament.utils.file_utils` which controls file, directory and time stamp information.\n",
    "\n"
   ]
  },
  {
   "cell_type": "code",
   "execution_count": 4,
   "id": "3360cb18",
   "metadata": {},
   "outputs": [
    {
     "name": "stdout",
     "output_type": "stream",
     "text": [
      "data_folder = ../data/CARE_HOME_DATA/\n",
      "motor_movement_data_folder = ../data/EEG-Motor-Movement-Imagery-Dataset/\n",
      "E4_file_paths = {'VG_01': './VG01/E4_8921_15_44/', 'VG_03': './VG03/E4_9921_12_16/', 'VG_05': './VG05/E4_9921_13_24/', 'VG_06': './VG06/E4_51021_13_33/', 'VG_07': './VG07/E4_51021_15_39/', 'VG_08': './VG08/E4_71021_10_42/', 'VG_09': './VG09/E4_11221_14_46/', 'VG_10': './VG10/E4_31221_11_17/', 'VH_01': './VH01/E4_61021_11_03/', 'VH_02': './VH02/E4_61021_13_59/', 'VH_03': './VH03/E4_11221_11_22/'}\n",
      "VG_file_paths = {'VG_01': './VG01/8921_15_52.edf', 'VG_02': './VG02/7921_15_18.edf', 'VG_03': './VG03/90921_12_20.edf', 'VG_05': './VG05/90921_13_27.edf', 'VG_06': './VG06/51021_13_40.edf', 'VG_08': './VG08/71021_10_44.edf', 'VG_09': './VG09/11221_14_59.edf', 'VG_10': './VG10/31221_11_24.edf', 'VH_01': './VH01/61021_11_17.edf', 'VH_02': './VH02/61021_14_3.edf', 'VH_03': './VH03/11221_11_21.edf'}\n",
      "VG_file_names = {0: 'Accelero Norm', 1: 'EEG Fpz-O1', 2: 'EEG Fpz-O2', 3: 'EEG Fpz-F7', 4: 'EEG F8-F7', 5: 'EEG F7-01', 6: 'EEG F8-O2', 7: 'EEG Fpz-F8', 8: 'Positiongram', 9: 'PulseOxy Infrare', 10: 'PulseOxy Red Hea', 11: 'Respiration x', 12: 'Respiration y', 13: 'Respiration z'}\n",
      "VG_Hz = 250\n",
      "EEG_buffer = 30\n",
      "E4_buffer = 30\n"
     ]
    }
   ],
   "source": [
    "from predicament.utils.config import data_folder\n",
    "from predicament.utils.config import motor_movement_data_folder\n",
    "from predicament.utils.config import E4_file_paths\n",
    "from predicament.utils.config import VG_file_paths\n",
    "from predicament.utils.config import VG_file_names\n",
    "from predicament.utils.config import VG_Hz\n",
    "from predicament.utils.config import EEG_buffer\n",
    "from predicament.utils.config import E4_buffer\n",
    "\n",
    "print(f\"data_folder = {data_folder}\")\n",
    "print(f\"motor_movement_data_folder = {motor_movement_data_folder}\")\n",
    "print(f\"E4_file_paths = {E4_file_paths}\")\n",
    "print(f\"VG_file_paths = {VG_file_paths}\")\n",
    "print(f\"VG_file_names = {VG_file_names}\")\n",
    "print(f\"VG_Hz = {VG_Hz}\")\n",
    "print(f\"EEG_buffer = {EEG_buffer}\")\n",
    "print(f\"E4_buffer = {E4_buffer}\")\n"
   ]
  },
  {
   "cell_type": "code",
   "execution_count": 4,
   "id": "cc4048b6",
   "metadata": {},
   "outputs": [
    {
     "name": "stdout",
     "output_type": "stream",
     "text": [
      "Extracting EDF parameters from /home/luke/git/external/activity_prediction_from_biosignals/data/CARE_HOME_DATA/VG01/8921_15_52.edf...\n",
      "EDF file detected\n",
      "Setting channel info structure...\n",
      "Creating raw.info structure...\n",
      "Successfully loaded VG_01 VG file (EEG data).\n",
      "Extracting EDF parameters from /home/luke/git/external/activity_prediction_from_biosignals/data/CARE_HOME_DATA/VG02/7921_15_18.edf...\n",
      "EDF file detected\n",
      "Setting channel info structure...\n",
      "Creating raw.info structure...\n",
      "Successfully loaded VG_02 VG file (EEG data).\n",
      "Extracting EDF parameters from /home/luke/git/external/activity_prediction_from_biosignals/data/CARE_HOME_DATA/VG03/90921_12_20.edf...\n",
      "EDF file detected\n",
      "Setting channel info structure...\n",
      "Creating raw.info structure...\n",
      "Successfully loaded VG_03 VG file (EEG data).\n",
      "Extracting EDF parameters from /home/luke/git/external/activity_prediction_from_biosignals/data/CARE_HOME_DATA/VG05/90921_13_27.edf...\n",
      "EDF file detected\n",
      "Setting channel info structure...\n",
      "Creating raw.info structure...\n",
      "Successfully loaded VG_05 VG file (EEG data).\n",
      "Extracting EDF parameters from /home/luke/git/external/activity_prediction_from_biosignals/data/CARE_HOME_DATA/VG06/51021_13_40.edf...\n",
      "EDF file detected\n",
      "Setting channel info structure...\n",
      "Creating raw.info structure...\n",
      "Successfully loaded VG_06 VG file (EEG data).\n",
      "Extracting EDF parameters from /home/luke/git/external/activity_prediction_from_biosignals/data/CARE_HOME_DATA/VG08/71021_10_44.edf...\n",
      "EDF file detected\n",
      "Setting channel info structure...\n",
      "Creating raw.info structure...\n",
      "Successfully loaded VG_08 VG file (EEG data).\n",
      "Extracting EDF parameters from /home/luke/git/external/activity_prediction_from_biosignals/data/CARE_HOME_DATA/VG09/11221_14_59.edf...\n",
      "EDF file detected\n",
      "Setting channel info structure...\n",
      "Creating raw.info structure...\n",
      "Successfully loaded VG_09 VG file (EEG data).\n",
      "Extracting EDF parameters from /home/luke/git/external/activity_prediction_from_biosignals/data/CARE_HOME_DATA/VG10/31221_11_24.edf...\n",
      "EDF file detected\n",
      "Setting channel info structure...\n",
      "Creating raw.info structure...\n",
      "Successfully loaded VG_10 VG file (EEG data).\n",
      "Extracting EDF parameters from /home/luke/git/external/activity_prediction_from_biosignals/data/CARE_HOME_DATA/VH01/61021_11_17.edf...\n",
      "EDF file detected\n",
      "Setting channel info structure...\n",
      "Creating raw.info structure...\n",
      "Successfully loaded VH_01 VG file (EEG data).\n",
      "Extracting EDF parameters from /home/luke/git/external/activity_prediction_from_biosignals/data/CARE_HOME_DATA/VH02/61021_14_3.edf...\n",
      "EDF file detected\n",
      "Setting channel info structure...\n",
      "Creating raw.info structure...\n",
      "Successfully loaded VH_02 VG file (EEG data).\n",
      "Extracting EDF parameters from /home/luke/git/external/activity_prediction_from_biosignals/data/CARE_HOME_DATA/VH03/11221_11_21.edf...\n",
      "EDF file detected\n",
      "Setting channel info structure...\n",
      "Creating raw.info structure...\n",
      "Successfully loaded VH_03 VG file (EEG data).\n"
     ]
    },
    {
     "ename": "AttributeError",
     "evalue": "'NoneType' object has no attribute 'events_info'",
     "output_type": "error",
     "traceback": [
      "\u001b[0;31m---------------------------------------------------------------------------\u001b[0m",
      "\u001b[0;31mAttributeError\u001b[0m                            Traceback (most recent call last)",
      "Input \u001b[0;32mIn [4]\u001b[0m, in \u001b[0;36m<cell line: 6>\u001b[0;34m()\u001b[0m\n\u001b[1;32m      3\u001b[0m \u001b[38;5;28;01mfrom\u001b[39;00m \u001b[38;5;21;01mRay\u001b[39;00m\u001b[38;5;21;01m.\u001b[39;00m\u001b[38;5;21;01mEvent_details\u001b[39;00m \u001b[38;5;28;01mimport\u001b[39;00m Event_time_details\n\u001b[1;32m      4\u001b[0m \u001b[38;5;28;01mfrom\u001b[39;00m \u001b[38;5;21;01mRay\u001b[39;00m\u001b[38;5;21;01m.\u001b[39;00m\u001b[38;5;21;01mdata_load_save\u001b[39;00m \u001b[38;5;28;01mimport\u001b[39;00m save_info_to_csv\n\u001b[0;32m----> 6\u001b[0m \u001b[43msave_info_to_csv\u001b[49m\u001b[43m(\u001b[49m\u001b[43m)\u001b[49m\n",
      "File \u001b[0;32m~/git/external/activity_prediction_from_biosignals/Ray/data_load_save.py:38\u001b[0m, in \u001b[0;36msave_info_to_csv\u001b[0;34m()\u001b[0m\n\u001b[1;32m     36\u001b[0m \u001b[38;5;28;01mfor\u001b[39;00m part \u001b[38;5;129;01min\u001b[39;00m EEG_files\u001b[38;5;241m.\u001b[39mkeys():\n\u001b[1;32m     37\u001b[0m     EEG_part \u001b[38;5;241m=\u001b[39m EEG_files[part]\n\u001b[0;32m---> 38\u001b[0m     \u001b[38;5;28;01mfor\u001b[39;00m Ev_name, EV_info \u001b[38;5;129;01min\u001b[39;00m \u001b[43mEEG_part\u001b[49m\u001b[38;5;241;43m.\u001b[39;49m\u001b[43mevent_details\u001b[49m\u001b[38;5;241;43m.\u001b[39;49m\u001b[43mevents_info\u001b[49m\u001b[38;5;241m.\u001b[39mitems():\n\u001b[1;32m     39\u001b[0m         start_time \u001b[38;5;241m=\u001b[39m unix2local(EV_info[\u001b[38;5;124m'\u001b[39m\u001b[38;5;124mstart\u001b[39m\u001b[38;5;124m'\u001b[39m])\u001b[38;5;241m.\u001b[39msplit(\u001b[38;5;124m'\u001b[39m\u001b[38;5;124m \u001b[39m\u001b[38;5;124m'\u001b[39m)[\u001b[38;5;241m1\u001b[39m] \u001b[38;5;28;01mif\u001b[39;00m EV_info[\u001b[38;5;124m'\u001b[39m\u001b[38;5;124mstart\u001b[39m\u001b[38;5;124m'\u001b[39m] \u001b[38;5;241m!=\u001b[39m \u001b[38;5;28;01mNone\u001b[39;00m \u001b[38;5;28;01melse\u001b[39;00m \u001b[38;5;124m'\u001b[39m\u001b[38;5;124mNone\u001b[39m\u001b[38;5;124m'\u001b[39m \u001b[38;5;66;03m# only need time from datetime\u001b[39;00m\n\u001b[1;32m     40\u001b[0m         end_time \u001b[38;5;241m=\u001b[39m unix2local(EV_info[\u001b[38;5;124m'\u001b[39m\u001b[38;5;124mend\u001b[39m\u001b[38;5;124m'\u001b[39m])\u001b[38;5;241m.\u001b[39msplit(\u001b[38;5;124m'\u001b[39m\u001b[38;5;124m \u001b[39m\u001b[38;5;124m'\u001b[39m)[\u001b[38;5;241m1\u001b[39m] \u001b[38;5;28;01mif\u001b[39;00m EV_info[\u001b[38;5;124m'\u001b[39m\u001b[38;5;124mend\u001b[39m\u001b[38;5;124m'\u001b[39m] \u001b[38;5;241m!=\u001b[39m \u001b[38;5;28;01mNone\u001b[39;00m \u001b[38;5;28;01melse\u001b[39;00m \u001b[38;5;124m'\u001b[39m\u001b[38;5;124mNone\u001b[39m\u001b[38;5;124m'\u001b[39m \u001b[38;5;66;03m# only need time from datetime\u001b[39;00m\n",
      "\u001b[0;31mAttributeError\u001b[0m: 'NoneType' object has no attribute 'events_info'"
     ]
    }
   ],
   "source": [
    "from Ray import EEG_data, E4_data\n",
    "from Ray.basic_info import data_folder, VG_file_paths, VG_Hz, EEG_buffer\n",
    "from Ray.Event_details import Event_time_details\n",
    "from Ray.data_load_save import save_info_to_csv\n",
    "\n",
    "save_info_to_csv()"
   ]
  },
  {
   "cell_type": "code",
   "execution_count": null,
   "id": "b444f910",
   "metadata": {},
   "outputs": [],
   "source": [
    "# resulting output from following call is\n",
    "# dictionary str to type EEG_data_class\n",
    "# where EEG_data_class is defined in Ray.EEG_data\n",
    "\n",
    "all_eeg_data = EEG_data.read_all_VG_files()\n",
    "event_details_dic = {\n",
    "    'partID': [],\n",
    "    'event': [],\n",
    "    'start': [],\n",
    "    'end': [],\n",
    "    'valid': []\n",
    "}\n",
    "\n",
    "exp_info_dic = {\n",
    "    'partID': [],\n",
    "    'date': [],\n",
    "    'exp_start': []\n",
    "}"
   ]
  },
  {
   "cell_type": "code",
   "execution_count": null,
   "id": "3d68c462",
   "metadata": {},
   "outputs": [],
   "source": [
    "all_eeg_data['VG_05'].event_details.events_info.items()"
   ]
  },
  {
   "cell_type": "code",
   "execution_count": null,
   "id": "7de36fb0",
   "metadata": {},
   "outputs": [],
   "source": [
    "event_ids = dict(familiar_music=1, wildlife_video=2, family_inter=3, Tchaikovsky=4, exper_video=5)\n",
    "event_ids['familiar_music']"
   ]
  },
  {
   "cell_type": "code",
   "execution_count": null,
   "id": "8b3bbce7",
   "metadata": {},
   "outputs": [],
   "source": [
    "from Ray.data_load_save import set_up\n",
    "EEG_files, _ = set_up(isE4 = False)"
   ]
  },
  {
   "cell_type": "code",
   "execution_count": null,
   "id": "476390bd",
   "metadata": {},
   "outputs": [],
   "source": [
    "EEG_files['VG_01'].event_details.events_info"
   ]
  },
  {
   "cell_type": "code",
   "execution_count": null,
   "id": "a6151a2b",
   "metadata": {},
   "outputs": [],
   "source": []
  }
 ],
 "metadata": {
  "kernelspec": {
   "display_name": "Python 3 (ipykernel)",
   "language": "python",
   "name": "python3"
  },
  "language_info": {
   "codemirror_mode": {
    "name": "ipython",
    "version": 3
   },
   "file_extension": ".py",
   "mimetype": "text/x-python",
   "name": "python",
   "nbconvert_exporter": "python",
   "pygments_lexer": "ipython3",
   "version": "3.10.6"
  }
 },
 "nbformat": 4,
 "nbformat_minor": 5
}
