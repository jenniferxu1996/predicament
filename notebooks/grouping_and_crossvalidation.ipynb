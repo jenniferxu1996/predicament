{
 "cells": [
  {
   "cell_type": "markdown",
   "id": "7097a7ca",
   "metadata": {},
   "source": [
    "This is a live notebook with experimental code to develop functionality for grouping and cross validation."
   ]
  },
  {
   "cell_type": "code",
   "execution_count": 1,
   "id": "04620ab0",
   "metadata": {},
   "outputs": [
    {
     "name": "stdout",
     "output_type": "stream",
     "text": [
      "['feature_development.ipynb', 'data', 'data_and_processing_description.ipynb', 'featured_eeg_prediction.ipynb', 'featured_prediction_random_forest.ipynb', 'gait_data_exploration.ipynb', 'featured_eeg_prediction_gradient_boosting.ipynb', 'Analyse_results.ipynb', '.ipynb_checkpoints', 'loading_e4_data.ipynb', 'featured_E4_prediction.ipynb', 'data_investigation_scratch.ipynb', 'grouping_and_crossvalidation.ipynb']\n"
     ]
    }
   ],
   "source": [
    "import numpy as np \n",
    "import pandas as pd \n",
    "import matplotlib.pyplot as plt\n",
    "import itertools\n",
    "import json\n",
    "\n",
    "import scipy.stats as spstats\n",
    "# fourier transform\n",
    "from scipy.fft import fft, ifft\n",
    "\n",
    "from sklearn.metrics import classification_report\n",
    "from sklearn.ensemble import RandomForestClassifier, GradientBoostingClassifier\n",
    "\n",
    "import matplotlib.pyplot as plt\n",
    "import pandas as pd\n",
    "\n",
    "import os\n",
    "print(os.listdir(\".\"))\n",
    "\n",
    "\n",
    "import re\n",
    "res_digit = r'[0-9]'"
   ]
  },
  {
   "cell_type": "code",
   "execution_count": 2,
   "id": "128460f2",
   "metadata": {},
   "outputs": [
    {
     "name": "stdout",
     "output_type": "stream",
     "text": [
      "thisdir = /home/luke/git/external/predicament/notebooks\n",
      "Adding parent directory to python path\n",
      "sys.path =\n",
      "['/home/luke/git/external/predicament/notebooks', '/home/luke/git/external/predicament', '/usr/lib/python310.zip', '/usr/lib/python3.10', '/usr/lib/python3.10/lib-dynload', '', '/home/luke/.local/lib/python3.10/site-packages', '/usr/local/lib/python3.10/dist-packages', '/usr/lib/python3/dist-packages', '/usr/lib/python3.10/dist-packages']\n"
     ]
    }
   ],
   "source": [
    "# This is a hack to make the library in the parent folder available for imoprts\n",
    "# A better solution is by np8 here:\n",
    "# https://stackoverflow.com/questions/714063/importing-modules-from-parent-folder\n",
    "import sys\n",
    "import os\n",
    "import inspect\n",
    "\n",
    "thisdir = sys.path[0]\n",
    "print(f\"thisdir = {thisdir}\")\n",
    "parentdir = os.path.dirname(thisdir)\n",
    "#print(f\"parentdir = {parentdir}\")\n",
    "if not parentdir in sys.path:\n",
    "    print(\"Adding parent directory to python path\")\n",
    "    sys.path.insert(1, parentdir)\n",
    "else:\n",
    "    print(\"Skipping adding parent direct to path (there already)\")\n",
    "\n",
    "print(f\"sys.path =\\n{sys.path}\")\n"
   ]
  },
  {
   "cell_type": "code",
   "execution_count": 3,
   "id": "8dca6b7f",
   "metadata": {},
   "outputs": [],
   "source": [
    "## ensure relative path to data directory is sound\n",
    "# for the notebook we need to modify the BASE_DATA_FOLDER\n",
    "import os \n",
    "os.environ['PREDICAMENT_DATA_DIR'] =  '../data'"
   ]
  },
  {
   "cell_type": "code",
   "execution_count": 4,
   "id": "c2419060",
   "metadata": {},
   "outputs": [],
   "source": [
    "from predicament.utils.config import DREEM_EEG_CHANNELS\n",
    "from predicament.utils.config import FEATURED_BASE_PATH\n",
    "from predicament.utils.config import WINDOWED_BASE_PATH\n",
    "\n",
    "from predicament.utils.file_utils import load_dataframe_and_config\n",
    "from predicament.evaluation.balancing import get_group_label_counts\n",
    "from predicament.evaluation.balancing import balance_data\n",
    "from predicament.evaluation.grouping import get_group_assignments\n",
    "\n",
    "\n",
    "from predicament.evaluation.results import output_model_best_from_results\n",
    "from predicament.evaluation.results import save_results_df_to_file\n"
   ]
  },
  {
   "cell_type": "markdown",
   "id": "c62d05ad",
   "metadata": {},
   "source": [
    "## Column name changes\n",
    "\n",
    "Changing the names of certain columns after datasets have been produced."
   ]
  },
  {
   "cell_type": "code",
   "execution_count": 7,
   "id": "f3cd80fd",
   "metadata": {},
   "outputs": [
    {
     "name": "stdout",
     "output_type": "stream",
     "text": [
      "dummy:\n",
      "- windoweddf.columns = Index(['participant', 'condition', 'start time', 'EEG Fpz-O1[0]',\n",
      "       'EEG Fpz-O1[1]', 'EEG Fpz-O1[2]', 'EEG Fpz-O1[3]', 'EEG Fpz-O1[4]',\n",
      "       'EEG Fpz-O1[5]', 'EEG Fpz-O1[6]',\n",
      "       ...\n",
      "       'EEG F8-O2[1014]', 'EEG F8-O2[1015]', 'EEG F8-O2[1016]',\n",
      "       'EEG F8-O2[1017]', 'EEG F8-O2[1018]', 'EEG F8-O2[1019]',\n",
      "       'EEG F8-O2[1020]', 'EEG F8-O2[1021]', 'EEG F8-O2[1022]',\n",
      "       'EEG F8-O2[1023]'],\n",
      "      dtype='object', length=5123)\n",
      "+ windoweddf.columns = Index(['participant', 'condition', 'start time', 'EEG Fpz-O1[0]',\n",
      "       'EEG Fpz-O1[1]', 'EEG Fpz-O1[2]', 'EEG Fpz-O1[3]', 'EEG Fpz-O1[4]',\n",
      "       'EEG Fpz-O1[5]', 'EEG Fpz-O1[6]',\n",
      "       ...\n",
      "       'EEG F8-O2[1014]', 'EEG F8-O2[1015]', 'EEG F8-O2[1016]',\n",
      "       'EEG F8-O2[1017]', 'EEG F8-O2[1018]', 'EEG F8-O2[1019]',\n",
      "       'EEG F8-O2[1020]', 'EEG F8-O2[1021]', 'EEG F8-O2[1022]',\n",
      "       'EEG F8-O2[1023]'],\n",
      "      dtype='object', length=5123)\n",
      "- windowedconfig['WINDOWED']['label_cols'] = [\"participant\", \"condition\", \"start time\"]\n",
      "+ windowedconfig['WINDOWED']['label_cols'] = ['participant', 'condition', 'start time']\n"
     ]
    }
   ],
   "source": [
    "import os\n",
    "\n",
    "# # from pathlib import Path\n",
    "\n",
    "# # pathlist = Path(WINDOWED_BASE_PATH).rglob('*/*.csv')\n",
    "# # for path in pathlist:\n",
    "# #     # because path is object not string\n",
    "# #     path_in_str = str(path)\n",
    "# #     print(path_in_str)\n",
    "\n",
    "# old_subj_col = 'part_ID'\n",
    "# new_subj_col = 'participant'\n",
    "# col_mapper = {old_subj_col:new_subj_col}\n",
    "# for subdir in os.listdir(WINDOWED_BASE_PATH):\n",
    "# #     filepath = os.path.join(WINDOWED_BASE_PATH, filename)\n",
    "#     windowed_data_dir = os.path.join(WINDOWED_BASE_PATH,subdir)\n",
    "#     if os.path.isdir(windowed_data_dir) and (subdir == 'dummy'):\n",
    "#         windoweddf, windowedconfig = load_dataframe_and_config(\n",
    "#             windowed_data_dir, 'windowed.csv')\n",
    "#         print(f\"{subdir}:\")\n",
    "#         print(f\"- windoweddf.columns = {windoweddf.columns}\")\n",
    "#         windoweddf = windoweddf.rename(columns=col_mapper)\n",
    "#         print(f\"+ windoweddf.columns = {windoweddf.columns}\")\n",
    "#         #print(f\"- windowedconfig['WINDOWED']['group_col'] = {windowedconfig['WINDOWED']['group_col']}\")\n",
    "#         #windowedconfig['WINDOWED']['group_col'] = new_subj_col\n",
    "#         #print(f\"+ windowedconfig['WINDOWED']['group_col'] = {windowedconfig['WINDOWED']['group_col']}\")\n",
    "#         print(f\"- windowedconfig['WINDOWED']['label_cols'] = {windowedconfig['WINDOWED']['label_cols']}\")\n",
    "#         label_cols = json.loads(windowedconfig['WINDOWED']['label_cols'].replace(\"'\",'\"'))\n",
    "# #         print(f\"label_cols = {label_cols}\")\n",
    "# #         print(f\"type(label_cols) = {type(label_cols)}\")\n",
    "# #        part_ID_idx = label_cols.index(old_subj_col)\n",
    "# #        label_cols[part_ID_idx] = new_subj_col\n",
    "# #         print(f\"label_cols = {label_cols}\")\n",
    "#         windowedconfig['WINDOWED']['label_cols'] = str(label_cols)\n",
    "#         print(f\"+ windowedconfig['WINDOWED']['label_cols'] = {windowedconfig['WINDOWED']['label_cols']}\")\n"
   ]
  },
  {
   "cell_type": "code",
   "execution_count": null,
   "id": "93702317",
   "metadata": {},
   "outputs": [],
   "source": []
  },
  {
   "cell_type": "code",
   "execution_count": 8,
   "id": "29990289",
   "metadata": {},
   "outputs": [
    {
     "name": "stdout",
     "output_type": "stream",
     "text": [
      "Fs: 64, n_samples = 256, time: 4.0s, n_channels: 7\n"
     ]
    }
   ],
   "source": [
    "subdir = '20231206193533'\n",
    "featured_data_dir = os.path.join(FEATURED_BASE_PATH,subdir)\n",
    "\n",
    "featured_df, featured_config = load_dataframe_and_config(\n",
    "    featured_data_dir, 'featured.csv')\n",
    "n_channels = int(featured_config['LOAD']['n_channels'])\n",
    "channels = json.loads(featured_config['LOAD']['channels'].replace(\"'\",'\"'))\n",
    "participant_list = json.loads(featured_config['LOAD']['participant_list'].replace(\"'\",'\"'))\n",
    "Fs = int(featured_config['LOAD']['sample_rate'])\n",
    "window_size = int(featured_config['LOAD']['window_size'])\n",
    "time = window_size/Fs\n",
    "print(f\"Fs: {Fs}, n_samples = {window_size}, time: {time}s, n_channels: {n_channels}\")\n"
   ]
  },
  {
   "cell_type": "code",
   "execution_count": 11,
   "id": "15dba750",
   "metadata": {},
   "outputs": [
    {
     "data": {
      "text/plain": [
       "0             0\n",
       "1             0\n",
       "2             0\n",
       "3             0\n",
       "4             0\n",
       "          ...  \n",
       "25291    483072\n",
       "25292    483328\n",
       "25293    483584\n",
       "25294    483840\n",
       "25295    484096\n",
       "Name: start time, Length: 25296, dtype: int64"
      ]
     },
     "execution_count": 11,
     "metadata": {},
     "output_type": "execute_result"
    }
   ],
   "source": [
    "featured_df['window index']"
   ]
  },
  {
   "cell_type": "code",
   "execution_count": null,
   "id": "a4bdbf2b",
   "metadata": {},
   "outputs": [],
   "source": []
  }
 ],
 "metadata": {
  "kernelspec": {
   "display_name": "Python 3 (ipykernel)",
   "language": "python",
   "name": "python3"
  },
  "language_info": {
   "codemirror_mode": {
    "name": "ipython",
    "version": 3
   },
   "file_extension": ".py",
   "mimetype": "text/x-python",
   "name": "python",
   "nbconvert_exporter": "python",
   "pygments_lexer": "ipython3",
   "version": "3.10.12"
  }
 },
 "nbformat": 4,
 "nbformat_minor": 5
}
