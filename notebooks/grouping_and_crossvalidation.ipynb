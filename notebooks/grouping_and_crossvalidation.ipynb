{
 "cells": [
  {
   "cell_type": "markdown",
   "id": "7097a7ca",
   "metadata": {},
   "source": [
    "This is a live notebook with experimental code to develop functionality for grouping and cross validation."
   ]
  },
  {
   "cell_type": "code",
   "execution_count": 1,
   "id": "04620ab0",
   "metadata": {},
   "outputs": [
    {
     "name": "stdout",
     "output_type": "stream",
     "text": [
      "['featured_eeg_prediction_random_forest.ipynb', 'feature_development.ipynb', 'data', 'data_and_processing_description.ipynb', 'featured_eeg_prediction.ipynb', 'gait_data_exploration.ipynb', 'featured_eeg_prediction_gradient_boosting.ipynb', 'Analyse_results.ipynb', '.ipynb_checkpoints', 'loading_e4_data.ipynb', 'featured_E4_prediction.ipynb', 'data_investigation_scratch.ipynb', 'grouping_and_crossvalidation.ipynb']\n"
     ]
    }
   ],
   "source": [
    "import numpy as np \n",
    "import pandas as pd \n",
    "import matplotlib.pyplot as plt\n",
    "import itertools\n",
    "import json\n",
    "\n",
    "import scipy.stats as spstats\n",
    "# fourier transform\n",
    "from scipy.fft import fft, ifft\n",
    "\n",
    "from sklearn.metrics import classification_report\n",
    "from sklearn.ensemble import RandomForestClassifier, GradientBoostingClassifier\n",
    "\n",
    "import matplotlib.pyplot as plt\n",
    "import pandas as pd\n",
    "import seaborn as sns\n",
    "# from statsmodels.tsa.api import acf, graphics, pacf\n",
    "from statsmodels.tsa.ar_model import AutoReg\n",
    "# from statsmodels.tsa.ar_model import ar_select_order\n",
    "\n",
    "import os\n",
    "print(os.listdir(\".\"))\n",
    "\n",
    "\n",
    "import re\n",
    "res_digit = r'[0-9]'"
   ]
  },
  {
   "cell_type": "code",
   "execution_count": 2,
   "id": "128460f2",
   "metadata": {},
   "outputs": [
    {
     "name": "stdout",
     "output_type": "stream",
     "text": [
      "thisdir = /home/luke/git/external/predicament/notebooks\n",
      "Adding parent directory to python path\n",
      "sys.path =\n",
      "['/home/luke/git/external/predicament/notebooks', '/home/luke/git/external/predicament', '/usr/lib/python310.zip', '/usr/lib/python3.10', '/usr/lib/python3.10/lib-dynload', '', '/home/luke/.local/lib/python3.10/site-packages', '/usr/local/lib/python3.10/dist-packages', '/usr/lib/python3/dist-packages', '/usr/lib/python3.10/dist-packages']\n"
     ]
    }
   ],
   "source": [
    "# This is a hack to make the library in the parent folder available for imoprts\n",
    "# A better solution is by np8 here:\n",
    "# https://stackoverflow.com/questions/714063/importing-modules-from-parent-folder\n",
    "import sys\n",
    "import os\n",
    "import inspect\n",
    "\n",
    "thisdir = sys.path[0]\n",
    "print(f\"thisdir = {thisdir}\")\n",
    "parentdir = os.path.dirname(thisdir)\n",
    "#print(f\"parentdir = {parentdir}\")\n",
    "if not parentdir in sys.path:\n",
    "    print(\"Adding parent directory to python path\")\n",
    "    sys.path.insert(1, parentdir)\n",
    "else:\n",
    "    print(\"Skipping adding parent direct to path (there already)\")\n",
    "\n",
    "print(f\"sys.path =\\n{sys.path}\")\n"
   ]
  },
  {
   "cell_type": "code",
   "execution_count": 3,
   "id": "8dca6b7f",
   "metadata": {},
   "outputs": [],
   "source": [
    "## ensure relative path to data directory is sound\n",
    "# for the notebook we need to modify the BASE_DATA_FOLDER\n",
    "import os \n",
    "os.environ['PREDICAMENT_DATA_DIR'] =  '../data'"
   ]
  },
  {
   "cell_type": "code",
   "execution_count": 4,
   "id": "c2419060",
   "metadata": {},
   "outputs": [
    {
     "ename": "ImportError",
     "evalue": "cannot import name 'load_dataframe_and_config' from 'prepare_evaluation_data' (/home/luke/git/external/predicament/prepare_evaluation_data.py)",
     "output_type": "error",
     "traceback": [
      "\u001b[0;31m---------------------------------------------------------------------------\u001b[0m",
      "\u001b[0;31mImportError\u001b[0m                               Traceback (most recent call last)",
      "Input \u001b[0;32mIn [4]\u001b[0m, in \u001b[0;36m<cell line: 5>\u001b[0;34m()\u001b[0m\n\u001b[1;32m      2\u001b[0m \u001b[38;5;28;01mfrom\u001b[39;00m \u001b[38;5;21;01mpredicament\u001b[39;00m\u001b[38;5;21;01m.\u001b[39;00m\u001b[38;5;21;01mutils\u001b[39;00m\u001b[38;5;21;01m.\u001b[39;00m\u001b[38;5;21;01mconfig\u001b[39;00m \u001b[38;5;28;01mimport\u001b[39;00m FEATURED_BASE_PATH\n\u001b[1;32m      3\u001b[0m \u001b[38;5;28;01mfrom\u001b[39;00m \u001b[38;5;21;01mpredicament\u001b[39;00m\u001b[38;5;21;01m.\u001b[39;00m\u001b[38;5;21;01mutils\u001b[39;00m\u001b[38;5;21;01m.\u001b[39;00m\u001b[38;5;21;01mconfig\u001b[39;00m \u001b[38;5;28;01mimport\u001b[39;00m WINDOWED_BASE_PATH\n\u001b[0;32m----> 5\u001b[0m \u001b[38;5;28;01mfrom\u001b[39;00m \u001b[38;5;21;01mprepare_evaluation_data\u001b[39;00m \u001b[38;5;28;01mimport\u001b[39;00m load_dataframe_and_config\n\u001b[1;32m      8\u001b[0m \u001b[38;5;28;01mfrom\u001b[39;00m \u001b[38;5;21;01mpredicament\u001b[39;00m\u001b[38;5;21;01m.\u001b[39;00m\u001b[38;5;21;01mevaluation\u001b[39;00m\u001b[38;5;21;01m.\u001b[39;00m\u001b[38;5;21;01mresults\u001b[39;00m \u001b[38;5;28;01mimport\u001b[39;00m output_model_best_from_results\n\u001b[1;32m      9\u001b[0m \u001b[38;5;28;01mfrom\u001b[39;00m \u001b[38;5;21;01mpredicament\u001b[39;00m\u001b[38;5;21;01m.\u001b[39;00m\u001b[38;5;21;01mevaluation\u001b[39;00m\u001b[38;5;21;01m.\u001b[39;00m\u001b[38;5;21;01mresults\u001b[39;00m \u001b[38;5;28;01mimport\u001b[39;00m save_results_df_to_file\n",
      "\u001b[0;31mImportError\u001b[0m: cannot import name 'load_dataframe_and_config' from 'prepare_evaluation_data' (/home/luke/git/external/predicament/prepare_evaluation_data.py)"
     ]
    }
   ],
   "source": [
    "from predicament.utils.config import DREEM_EEG_CHANNELS\n",
    "from predicament.utils.config import FEATURED_BASE_PATH\n",
    "from predicament.utils.config import WINDOWED_BASE_PATH\n",
    "\n",
    "from prepare_evaluation_data import load_dataframe_and_config\n",
    "\n",
    "\n",
    "from predicament.evaluation.results import output_model_best_from_results\n",
    "from predicament.evaluation.results import save_results_df_to_file\n"
   ]
  },
  {
   "cell_type": "markdown",
   "id": "c62d05ad",
   "metadata": {},
   "source": [
    "## Column name changes\n",
    "\n",
    "Changing the names of certain columns after datasets have been produced."
   ]
  },
  {
   "cell_type": "code",
   "execution_count": null,
   "id": "f3cd80fd",
   "metadata": {},
   "outputs": [],
   "source": [
    "import os\n",
    "\n",
    "# from pathlib import Path\n",
    "\n",
    "# pathlist = Path(WINDOWED_BASE_PATH).rglob('*/*.csv')\n",
    "# for path in pathlist:\n",
    "#     # because path is object not string\n",
    "#     path_in_str = str(path)\n",
    "#     print(path_in_str)\n",
    "\n",
    "old_subj_col = 'part_ID'\n",
    "new_subj_col = 'participant'\n",
    "col_mapper = {old_subj_col:new_subj_col}\n",
    "for subdir in os.listdir(WINDOWED_BASE_PATH):\n",
    "#     filepath = os.path.join(WINDOWED_BASE_PATH, filename)\n",
    "    windowed_data_dir = os.path.join(WINDOWED_BASE_PATH,subdir)\n",
    "    if os.path.isdir(windowed_data_dir) and (subdir == 'dummy'):\n",
    "        windoweddf, windowedconfig = load_dataframe_and_config(\n",
    "            windowed_data_dir, 'windowed.csv')\n",
    "        print(f\"{subdir}:\")\n",
    "        print(f\"- windoweddf.columns = {windoweddf.columns}\")\n",
    "        windoweddf = windoweddf.rename(columns=col_mapper)\n",
    "        print(f\"+ windoweddf.columns = {windoweddf.columns}\")\n",
    "        print(f\"- windowedconfig['WINDOWED']['group_col'] = {windowedconfig['WINDOWED']['group_col']}\")\n",
    "        windowedconfig['WINDOWED']['group_col'] = new_subj_col\n",
    "        print(f\"+ windowedconfig['WINDOWED']['group_col'] = {windowedconfig['WINDOWED']['group_col']}\")\n",
    "        print(f\"- windowedconfig['WINDOWED']['label_cols'] = {windowedconfig['WINDOWED']['label_cols']}\")\n",
    "        label_cols = json.loads(windowedconfig['WINDOWED']['label_cols'].replace(\"'\",'\"'))\n",
    "#         print(f\"label_cols = {label_cols}\")\n",
    "#         print(f\"type(label_cols) = {type(label_cols)}\")\n",
    "        part_ID_idx = label_cols.index(old_subj_col)\n",
    "        label_cols[part_ID_idx] = new_subj_col\n",
    "#         print(f\"label_cols = {label_cols}\")\n",
    "        windowedconfig['WINDOWED']['label_cols'] = str(label_cols)\n",
    "        print(f\"+ windowedconfig['WINDOWED']['label_cols'] = {windowedconfig['WINDOWED']['label_cols']}\")\n"
   ]
  },
  {
   "cell_type": "code",
   "execution_count": null,
   "id": "93702317",
   "metadata": {},
   "outputs": [],
   "source": [
    "df = pd.DataFrame({\"A\": [1, 2, 3], \"B\": [4, 5, 6]})\n",
    "df.rename(columns={\"A\": \"a\", \"B\": \"c\"})"
   ]
  },
  {
   "cell_type": "code",
   "execution_count": null,
   "id": "29990289",
   "metadata": {},
   "outputs": [],
   "source": [
    "windoweddf = windoweddf.rename(columns={'part_ID': 'participant'})\n",
    "windoweddf['participant']"
   ]
  },
  {
   "cell_type": "code",
   "execution_count": null,
   "id": "15dba750",
   "metadata": {},
   "outputs": [],
   "source": []
  }
 ],
 "metadata": {
  "kernelspec": {
   "display_name": "Python 3 (ipykernel)",
   "language": "python",
   "name": "python3"
  },
  "language_info": {
   "codemirror_mode": {
    "name": "ipython",
    "version": 3
   },
   "file_extension": ".py",
   "mimetype": "text/x-python",
   "name": "python",
   "nbconvert_exporter": "python",
   "pygments_lexer": "ipython3",
   "version": "3.10.12"
  }
 },
 "nbformat": 4,
 "nbformat_minor": 5
}
