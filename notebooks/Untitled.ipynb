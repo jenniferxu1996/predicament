{
 "cells": [
  {
   "cell_type": "markdown",
   "id": "e4b7f51b",
   "metadata": {},
   "source": [
    "\n",
    "\n",
    "$X$\n",
    "\n",
    "$X_{ij}$ is prob that element $i$ is class $j$.\n",
    "\n",
    "$1 - X_{ij}$ is prob that element $i$ is not class $j$.\n",
    "\n",
    "Prob that no row is class $j$, $y = \\prod_{i} (1-X_{ij})$\n",
    "\n",
    "Prob that at least one row is class $j$, is $1-y$ \n",
    "\n",
    "Suggests aggregation function (columnwise) $1 - \\prod_{i} (1-X_{ij})$"
   ]
  },
  {
   "cell_type": "markdown",
   "id": "b3d72adc",
   "metadata": {},
   "source": [
    "\n",
    "\n",
    "$X$\n",
    "\n",
    "$\\exp(X_{ij})$ is log-prob that element $i$ is class $j$. $X_{ij}$ is $\\log(softmax(Z))$ where Z is some set of softmax activations.\n",
    "\n",
    "$\\log(1 - \\exp(X_{ij}))$ is log-prob that element $i$ is not class $j$.\n",
    "\n",
    "Prob that no row is class $j$, $y = \\exp(\\sum_{i} \\log(1-\\exp(X_{ij})))$\n",
    "\n",
    "Prob that at least one row is class $j$, is $1-y$ \n",
    "\n",
    "Suggests aggregation function (columnwise) $\\log(1 - \\exp(\\sum_{i} \\log(1-\\exp(X_{ij}))))$"
   ]
  },
  {
   "cell_type": "code",
   "execution_count": null,
   "id": "a902a4c4",
   "metadata": {},
   "outputs": [],
   "source": []
  }
 ],
 "metadata": {
  "kernelspec": {
   "display_name": "Python 3 (ipykernel)",
   "language": "python",
   "name": "python3"
  },
  "language_info": {
   "codemirror_mode": {
    "name": "ipython",
    "version": 3
   },
   "file_extension": ".py",
   "mimetype": "text/x-python",
   "name": "python",
   "nbconvert_exporter": "python",
   "pygments_lexer": "ipython3",
   "version": "3.10.6"
  }
 },
 "nbformat": 4,
 "nbformat_minor": 5
}
