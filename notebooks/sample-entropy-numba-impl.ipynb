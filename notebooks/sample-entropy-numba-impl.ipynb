{
 "cells": [
  {
   "cell_type": "markdown",
   "id": "dbc02882",
   "metadata": {},
   "source": [
    "Reference impl. from Wikipedia:"
   ]
  },
  {
   "cell_type": "code",
   "execution_count": 1,
   "id": "07bd9d2c",
   "metadata": {},
   "outputs": [],
   "source": [
    "from itertools import combinations\n",
    "from math import log\n",
    "\n",
    "def construct_templates(timeseries_data:list, m:int=2):\n",
    "    num_windows = len(timeseries_data) - m + 1\n",
    "    return [timeseries_data[x:x+m] for x in range(0, num_windows)]\n",
    "\n",
    "def get_matches(templates:list, r:float):\n",
    "    return len(list(filter(lambda x: is_match(x[0], x[1], r), combinations(templates, 2))))\n",
    "\n",
    "def is_match(template_1:list, template_2:list, r:float):\n",
    "    return all([abs(x - y) < r for (x, y) in zip(template_1, template_2)])\n",
    "\n",
    "def sample_entropy(timeseries_data:list, window_size:int, r:float):\n",
    "    B = get_matches(construct_templates(timeseries_data, window_size), r)\n",
    "    A = get_matches(construct_templates(timeseries_data, window_size+1), r)\n",
    "    return -log(A/B)"
   ]
  },
  {
   "cell_type": "markdown",
   "id": "809b87d4",
   "metadata": {},
   "source": [
    "Naive port following the reference logic:"
   ]
  },
  {
   "cell_type": "code",
   "execution_count": 2,
   "id": "abd087a3",
   "metadata": {},
   "outputs": [
    {
     "data": {
      "text/plain": [
       "'1.26.4'"
      ]
     },
     "execution_count": 2,
     "metadata": {},
     "output_type": "execute_result"
    }
   ],
   "source": [
    "import numpy as np\n",
    "np.__version__\n"
   ]
  },
  {
   "cell_type": "code",
   "execution_count": 3,
   "id": "2ce70120",
   "metadata": {},
   "outputs": [],
   "source": [
    "import numba\n",
    "import numpy as np"
   ]
  },
  {
   "cell_type": "code",
   "execution_count": 4,
   "id": "045a30f9",
   "metadata": {},
   "outputs": [],
   "source": [
    "@numba.njit()\n",
    "def construct_templates_(x, m=2):\n",
    "    res = np.empty((x.size - m + 1, m), dtype=x.dtype.type)\n",
    "    for i in range(res.shape[0]):\n",
    "        res[i] = x[i:i+m]\n",
    "    return res\n",
    "\n",
    "@numba.njit()\n",
    "def is_match_(a, b, r):\n",
    "    return np.all(np.abs(a - b) < r)\n",
    "\n",
    "@numba.njit()\n",
    "def get_matches_(t, r):\n",
    "    res = 0\n",
    "    for i in range(t.shape[0] - 1):\n",
    "        for j in range(i+1, t.shape[0]):\n",
    "            if is_match_(t[i], t[j], r):\n",
    "                res += 1\n",
    "    return res\n",
    "\n",
    "@numba.njit()\n",
    "def sample_entropy_(x, w, r):\n",
    "    B = get_matches_(construct_templates_(x, w), r)\n",
    "    A = get_matches_(construct_templates_(x, w+1), r)\n",
    "    return -np.log(A/B)"
   ]
  },
  {
   "cell_type": "code",
   "execution_count": 5,
   "id": "0144dc28",
   "metadata": {},
   "outputs": [],
   "source": [
    "x_ = np.arange(1000) - 500\n",
    "x = x_.tolist()"
   ]
  },
  {
   "cell_type": "code",
   "execution_count": 6,
   "id": "d03499bb",
   "metadata": {},
   "outputs": [
    {
     "name": "stdout",
     "output_type": "stream",
     "text": [
      "CPU times: user 2.45 s, sys: 413 µs, total: 2.45 s\n",
      "Wall time: 2.5 s\n"
     ]
    },
    {
     "data": {
      "text/plain": [
       "0.0010045204260054762"
      ]
     },
     "execution_count": 6,
     "metadata": {},
     "output_type": "execute_result"
    }
   ],
   "source": [
    "%time sample_entropy(x, 4, 2)"
   ]
  },
  {
   "cell_type": "code",
   "execution_count": 7,
   "id": "d8ce63ad",
   "metadata": {},
   "outputs": [
    {
     "name": "stdout",
     "output_type": "stream",
     "text": [
      "CPU times: user 116 ms, sys: 46 µs, total: 116 ms\n",
      "Wall time: 116 ms\n"
     ]
    },
    {
     "data": {
      "text/plain": [
       "0.0010045204260054762"
      ]
     },
     "execution_count": 7,
     "metadata": {},
     "output_type": "execute_result"
    }
   ],
   "source": [
    "sample_entropy_(x_, 4, 2)  # compile before timing\n",
    "%time sample_entropy_(x_, 4, 2)"
   ]
  },
  {
   "cell_type": "markdown",
   "id": "8f734615",
   "metadata": {},
   "source": [
    "Time with longer vector:"
   ]
  },
  {
   "cell_type": "code",
   "execution_count": 8,
   "id": "8150e338",
   "metadata": {},
   "outputs": [],
   "source": [
    "x_ = np.random.randn(2000)\n",
    "x = x_.tolist()"
   ]
  },
  {
   "cell_type": "code",
   "execution_count": 9,
   "id": "6055b3dc",
   "metadata": {},
   "outputs": [
    {
     "name": "stdout",
     "output_type": "stream",
     "text": [
      "CPU times: user 8.18 s, sys: 19.6 ms, total: 8.2 s\n",
      "Wall time: 8.67 s\n"
     ]
    },
    {
     "data": {
      "text/plain": [
       "0.665893330822177"
      ]
     },
     "execution_count": 9,
     "metadata": {},
     "output_type": "execute_result"
    }
   ],
   "source": [
    "%time sample_entropy(x, 3, 1)"
   ]
  },
  {
   "cell_type": "code",
   "execution_count": 10,
   "id": "acc6673c",
   "metadata": {},
   "outputs": [
    {
     "name": "stdout",
     "output_type": "stream",
     "text": [
      "CPU times: user 456 ms, sys: 25 µs, total: 456 ms\n",
      "Wall time: 458 ms\n"
     ]
    },
    {
     "data": {
      "text/plain": [
       "0.665893330822177"
      ]
     },
     "execution_count": 10,
     "metadata": {},
     "output_type": "execute_result"
    }
   ],
   "source": [
    "sample_entropy_(x_, 3, 1)\n",
    "%time sample_entropy_(x_, 3, 1)"
   ]
  },
  {
   "cell_type": "markdown",
   "id": "a467fe4b",
   "metadata": {},
   "source": [
    "OK, just compiling yields ~10x faster code.  \n",
    "\n",
    "The next obvious optimisation is to return early in `is_match` (upon the first pair of template elements that do not meet the condition):"
   ]
  },
  {
   "cell_type": "code",
   "execution_count": 11,
   "id": "eea782a2",
   "metadata": {},
   "outputs": [],
   "source": [
    "@numba.njit()\n",
    "def construct_templates_(x, m=2):\n",
    "    res = np.empty((x.size - m + 1, m), dtype=x.dtype.type)\n",
    "    for i in range(res.shape[0]):\n",
    "        res[i] = x[i:i+m]\n",
    "    return res\n",
    "\n",
    "@numba.njit()\n",
    "def is_match_2(a, b, r):\n",
    "    for i in range(a.size):\n",
    "        if np.abs(a[i] - b[i]) >= r:\n",
    "            return False\n",
    "    return True\n",
    "\n",
    "@numba.njit()\n",
    "def get_matches_2(t, r):\n",
    "    res = 0\n",
    "    for i in range(t.shape[0] - 1):\n",
    "        for j in range(i+1, t.shape[0]):\n",
    "            if is_match_2(t[i], t[j], r):\n",
    "                res += 1\n",
    "    return res\n",
    "\n",
    "@numba.njit()\n",
    "def sample_entropy_2(x, w, r):\n",
    "    B = get_matches_2(construct_templates_(x, w), r)\n",
    "    A = get_matches_2(construct_templates_(x, w+1), r)\n",
    "    return -np.log(A/B)"
   ]
  },
  {
   "cell_type": "code",
   "execution_count": 12,
   "id": "fcb46013",
   "metadata": {},
   "outputs": [
    {
     "name": "stdout",
     "output_type": "stream",
     "text": [
      "CPU times: user 481 ms, sys: 55 µs, total: 481 ms\n",
      "Wall time: 486 ms\n"
     ]
    },
    {
     "data": {
      "text/plain": [
       "0.665893330822177"
      ]
     },
     "execution_count": 12,
     "metadata": {},
     "output_type": "execute_result"
    }
   ],
   "source": [
    "sample_entropy_(x_, 3, 1)\n",
    "%time sample_entropy_(x_, 3, 1)"
   ]
  },
  {
   "cell_type": "code",
   "execution_count": 13,
   "id": "db990cf0",
   "metadata": {},
   "outputs": [
    {
     "name": "stdout",
     "output_type": "stream",
     "text": [
      "CPU times: user 46 ms, sys: 0 ns, total: 46 ms\n",
      "Wall time: 47.9 ms\n"
     ]
    },
    {
     "data": {
      "text/plain": [
       "0.665893330822177"
      ]
     },
     "execution_count": 13,
     "metadata": {},
     "output_type": "execute_result"
    }
   ],
   "source": [
    "sample_entropy_2(x_, 3, 1)\n",
    "%time sample_entropy_2(x_, 3, 1)"
   ]
  },
  {
   "cell_type": "markdown",
   "id": "b257aa8d",
   "metadata": {},
   "source": [
    "Cool, another 10x. The last obvious step is to parallelise `get_matches`. This will require a bit of extra code, as 1) we want to evenly distribute computation over a triangular matrix and 2) avoid a race condition. "
   ]
  },
  {
   "cell_type": "code",
   "execution_count": 14,
   "id": "7f9f36c0",
   "metadata": {},
   "outputs": [],
   "source": [
    "@numba.njit()\n",
    "def dumb_load_balancer(n, cores):\n",
    "    o = ((n**2 - n) // 2)  # total number of obs. in the triangle\n",
    "    r = np.cumsum(np.arange(n)[::-1])  # total number of obs. up to row\n",
    "    res = np.zeros(cores+1, dtype=np.uint32)  # row indices\n",
    "    crit = o//cores  # criterion for using given row index as the boundary\n",
    "    cnt = 1\n",
    "    for i, e in enumerate(r):\n",
    "        if e >= crit:\n",
    "            res[cnt] = i\n",
    "            crit += o//cores\n",
    "            cnt += 1\n",
    "    res[-1] = n\n",
    "    return res"
   ]
  },
  {
   "cell_type": "code",
   "execution_count": 15,
   "id": "56ff2e69",
   "metadata": {},
   "outputs": [],
   "source": [
    "@numba.njit(parallel=True)\n",
    "def get_matches_p(t, r):\n",
    "    ix = dumb_load_balancer(t.shape[0], numba.config.NUMBA_NUM_THREADS)\n",
    "    res = np.zeros(ix.size - 1)\n",
    "    for core in numba.prange(ix.size-1):\n",
    "        for i in range(ix[core], ix[core+1]):\n",
    "            for j in range(i+1, t.shape[0]):\n",
    "                if is_match_2(t[i], t[j], r):\n",
    "                    res[core] += 1\n",
    "    return np.sum(res)\n",
    "\n",
    "@numba.njit()\n",
    "def sample_entropy_p(x, w, r):\n",
    "    B = get_matches_p(construct_templates_(x, w), r)\n",
    "    A = get_matches_p(construct_templates_(x, w+1), r)\n",
    "    return -np.log(A/B)"
   ]
  },
  {
   "cell_type": "code",
   "execution_count": 16,
   "id": "09c92d3f",
   "metadata": {},
   "outputs": [
    {
     "name": "stderr",
     "output_type": "stream",
     "text": [
      "/tmp/ipykernel_327798/2691195559.py:14: NumbaWarning: \u001b[1m\u001b[1mThe TBB threading layer requires TBB version 2021 update 6 or later i.e., TBB_INTERFACE_VERSION >= 12060. Found TBB_INTERFACE_VERSION = 12050. The TBB threading layer is disabled.\u001b[0m\u001b[0m\n",
      "  B = get_matches_p(construct_templates_(x, w), r)\n"
     ]
    },
    {
     "name": "stdout",
     "output_type": "stream",
     "text": [
      "CPU times: user 1.77 s, sys: 46 µs, total: 1.77 s\n",
      "Wall time: 891 ms\n"
     ]
    },
    {
     "data": {
      "text/plain": [
       "0.6533255792439661"
      ]
     },
     "execution_count": 16,
     "metadata": {},
     "output_type": "execute_result"
    }
   ],
   "source": [
    "x = np.random.randn(10_000)\n",
    "sample_entropy_p(x, 3, 1.)  # compile before timing\n",
    "%time sample_entropy_p(x, 3, 1.)"
   ]
  },
  {
   "cell_type": "code",
   "execution_count": 17,
   "id": "e0f5b153",
   "metadata": {},
   "outputs": [
    {
     "name": "stdout",
     "output_type": "stream",
     "text": [
      "CPU times: user 1.09 s, sys: 4.05 ms, total: 1.1 s\n",
      "Wall time: 1.1 s\n"
     ]
    },
    {
     "data": {
      "text/plain": [
       "0.6533255792439661"
      ]
     },
     "execution_count": 17,
     "metadata": {},
     "output_type": "execute_result"
    }
   ],
   "source": [
    "sample_entropy_2(x, 3, 1.)  # compile before timing\n",
    "%time sample_entropy_2(x, 3, 1.)"
   ]
  },
  {
   "cell_type": "code",
   "execution_count": 18,
   "id": "e056ce93",
   "metadata": {},
   "outputs": [
    {
     "name": "stdout",
     "output_type": "stream",
     "text": [
      "CPU times: user 15.2 s, sys: 28.4 ms, total: 15.2 s\n",
      "Wall time: 15.5 s\n"
     ]
    },
    {
     "data": {
      "text/plain": [
       "0.6533255792439661"
      ]
     },
     "execution_count": 18,
     "metadata": {},
     "output_type": "execute_result"
    }
   ],
   "source": [
    "%time sample_entropy_(x, 3, 1.)"
   ]
  },
  {
   "cell_type": "code",
   "execution_count": 19,
   "id": "16612690",
   "metadata": {},
   "outputs": [
    {
     "data": {
      "text/plain": [
       "4"
      ]
     },
     "execution_count": 19,
     "metadata": {},
     "output_type": "execute_result"
    }
   ],
   "source": [
    "numba.config.NUMBA_NUM_THREADS"
   ]
  },
  {
   "cell_type": "markdown",
   "id": "53836b4d",
   "metadata": {},
   "source": [
    "This notebook was run on a 12 core machine; with this level of parallelism we get about 500x improvement over the reference impl."
   ]
  },
  {
   "cell_type": "code",
   "execution_count": null,
   "id": "b5157181",
   "metadata": {},
   "outputs": [],
   "source": []
  }
 ],
 "metadata": {
  "kernelspec": {
   "display_name": "Python 3 (ipykernel)",
   "language": "python",
   "name": "python3"
  },
  "language_info": {
   "codemirror_mode": {
    "name": "ipython",
    "version": 3
   },
   "file_extension": ".py",
   "mimetype": "text/x-python",
   "name": "python",
   "nbconvert_exporter": "python",
   "pygments_lexer": "ipython3",
   "version": "3.10.12"
  }
 },
 "nbformat": 4,
 "nbformat_minor": 5
}
