{
 "cells": [
  {
   "cell_type": "code",
   "execution_count": 1,
   "id": "3d85da94",
   "metadata": {},
   "outputs": [
    {
     "name": "stdout",
     "output_type": "stream",
     "text": [
      "['logs', 'Window timings and IBI.ipynb', 'feature_development.ipynb', 'data', 'data_and_processing_description.ipynb', 'featured_eeg_prediction.ipynb', 'featured_prediction_random_forest.ipynb', 'gait_data_exploration.ipynb', 'featured_eeg_prediction_gradient_boosting.ipynb', 'Analyse_results.ipynb', '.ipynb_checkpoints', 'loading_e4_data.ipynb', 'featured_E4_prediction.ipynb', 'data_investigation_scratch.ipynb', 'grouping_and_crossvalidation.ipynb']\n"
     ]
    }
   ],
   "source": [
    "import numpy as np \n",
    "import pandas as pd \n",
    "import matplotlib.pyplot as plt\n",
    "import itertools\n",
    "import json\n",
    "\n",
    "import scipy.stats as spstats\n",
    "# fourier transform\n",
    "from scipy.fft import fft, ifft\n",
    "\n",
    "from sklearn.metrics import classification_report\n",
    "from sklearn.ensemble import RandomForestClassifier, GradientBoostingClassifier\n",
    "\n",
    "import matplotlib.pyplot as plt\n",
    "import pandas as pd\n",
    "import seaborn as sns\n",
    "# from statsmodels.tsa.api import acf, graphics, pacf\n",
    "from statsmodels.tsa.ar_model import AutoReg\n",
    "# from statsmodels.tsa.ar_model import ar_select_order\n",
    "\n",
    "import os\n",
    "print(os.listdir(\".\"))\n",
    "\n",
    "\n",
    "import re\n",
    "res_digit = r'[0-9]'\n"
   ]
  },
  {
   "cell_type": "code",
   "execution_count": 2,
   "id": "0b56ec98",
   "metadata": {},
   "outputs": [
    {
     "name": "stdout",
     "output_type": "stream",
     "text": [
      "thisdir = /home/luke/git/external/predicament/notebooks\n",
      "Adding parent directory to python path\n",
      "sys.path =\n",
      "['/home/luke/git/external/predicament/notebooks', '/home/luke/git/external/predicament', '/usr/lib/python310.zip', '/usr/lib/python3.10', '/usr/lib/python3.10/lib-dynload', '', '/home/luke/.local/lib/python3.10/site-packages', '/usr/local/lib/python3.10/dist-packages', '/usr/lib/python3/dist-packages', '/usr/lib/python3.10/dist-packages']\n"
     ]
    }
   ],
   "source": [
    "# This is a hack to make the library in the parent folder available for imoprts\n",
    "# A better solution is by np8 here:\n",
    "# https://stackoverflow.com/questions/714063/importing-modules-from-parent-folder\n",
    "import sys\n",
    "import os\n",
    "import inspect\n",
    "\n",
    "thisdir = sys.path[0]\n",
    "print(f\"thisdir = {thisdir}\")\n",
    "parentdir = os.path.dirname(thisdir)\n",
    "#print(f\"parentdir = {parentdir}\")\n",
    "if not parentdir in sys.path:\n",
    "    print(\"Adding parent directory to python path\")\n",
    "    sys.path.insert(1, parentdir)\n",
    "else:\n",
    "    print(\"Skipping adding parent direct to path (there already)\")\n",
    "\n",
    "print(f\"sys.path =\\n{sys.path}\")\n"
   ]
  },
  {
   "cell_type": "code",
   "execution_count": 3,
   "id": "1e264c6e",
   "metadata": {},
   "outputs": [],
   "source": [
    "## ensure relative path to data directory is sound\n",
    "# for the notebook we need to modify the BASE_DATA_FOLDER\n",
    "import os \n",
    "os.environ['PREDICAMENT_DATA_DIR'] =  '../data'"
   ]
  },
  {
   "cell_type": "code",
   "execution_count": 4,
   "id": "27da2354",
   "metadata": {},
   "outputs": [],
   "source": [
    "from predicament.utils.config import DREEM_EEG_CHANNELS\n",
    "from predicament.utils.config import FEATURED_BASE_PATH\n",
    "from predicament.utils.config import WINDOWED_BASE_PATH\n",
    "\n",
    "\n",
    "from predicament.data.timeseries import create_participant_data_edf_only\n",
    "from predicament.data.windowed import window_all_participants_data\n",
    "from predicament.data.windowed import merge_condition_data\n",
    "from predicament.data.windowed import get_window_start_in_event_time\n",
    "from predicament.data.windowed import get_window_duration\n",
    "from predicament.data.partitioning import between_subject_cv_partition\n",
    "\n",
    "from predicament.data.features import MAXIMAL_FEATURE_GROUP\n",
    "from predicament.data.features import STATS_FEATURE_GROUP\n",
    "from predicament.data.features import INFO_FEATURE_GROUP\n",
    "from predicament.data.features import FREQ_FEATURE_GROUP\n",
    "from predicament.data.features import convert_timeseries_to_features\n",
    "from prepare_evaluation_data import load_dataframe_and_config\n"
   ]
  },
  {
   "cell_type": "code",
   "execution_count": 5,
   "id": "450658ad",
   "metadata": {},
   "outputs": [],
   "source": [
    "from predicament.data.events import load_event_info_from_csv\n"
   ]
  },
  {
   "cell_type": "code",
   "execution_count": 6,
   "id": "0ee91a6d",
   "metadata": {},
   "outputs": [
    {
     "data": {
      "text/plain": [
       "{'VG_01': '../data/CARE_HOME_DATA/./VG01/E4_8921_15_44/',\n",
       " 'VG_03': '../data/CARE_HOME_DATA/./VG03/E4_9921_12_16/',\n",
       " 'VG_05': '../data/CARE_HOME_DATA/./VG05/E4_9921_13_24/',\n",
       " 'VG_06': '../data/CARE_HOME_DATA/./VG06/E4_51021_13_33/',\n",
       " 'VG_07': '../data/CARE_HOME_DATA/./VG07/E4_51021_15_39/',\n",
       " 'VG_08': '../data/CARE_HOME_DATA/./VG08/E4_71021_10_42/',\n",
       " 'VG_09': '../data/CARE_HOME_DATA/./VG09/E4_11221_14_46/',\n",
       " 'VG_10': '../data/CARE_HOME_DATA/./VG10/E4_31221_11_17/',\n",
       " 'VH_01': '../data/CARE_HOME_DATA/./VH01/E4_61021_11_03/',\n",
       " 'VH_02': '../data/CARE_HOME_DATA/./VH02/E4_61021_13_59/',\n",
       " 'VH_03': '../data/CARE_HOME_DATA/./VH03/E4_11221_11_22/'}"
      ]
     },
     "execution_count": 6,
     "metadata": {},
     "output_type": "execute_result"
    }
   ],
   "source": [
    "from predicament.utils.config import E4_CSV_FILES\n",
    "from predicament.utils.config import E4_FULL_DIRPATHS\n",
    "E4_FULL_DIRPATHS"
   ]
  },
  {
   "cell_type": "code",
   "execution_count": 7,
   "id": "6630d865",
   "metadata": {},
   "outputs": [],
   "source": [
    "subdir = '20231206193533'\n",
    "windowed_data_dir = os.path.join(WINDOWED_BASE_PATH,subdir)\n",
    "\n",
    "windoweddf, windowed_config = load_dataframe_and_config(\n",
    "    windowed_data_dir, 'windowed.csv')"
   ]
  },
  {
   "cell_type": "code",
   "execution_count": 8,
   "id": "512c4ae0",
   "metadata": {},
   "outputs": [
    {
     "name": "stdout",
     "output_type": "stream",
     "text": [
      "sample_rate: 64, n_samples = 256, time: 4.0s, n_channels: 7\n",
      "window_size: 256, window_step: 32, window_duration: 4.0\n"
     ]
    }
   ],
   "source": [
    "n_channels = int(windowed_config['LOAD']['n_channels'])\n",
    "channels = json.loads(windowed_config['LOAD']['channels'].replace(\"'\",'\"'))\n",
    "participant_list = json.loads(windowed_config['LOAD']['participant_list'].replace(\"'\",'\"'))\n",
    "conditions = json.loads(windowed_config['LOAD']['conditions'].replace(\"'\",'\"'))\n",
    "sample_rate = int(windowed_config['LOAD']['sample_rate'])\n",
    "window_size = int(windowed_config['LOAD']['window_size'])\n",
    "window_step = int(windowed_config['LOAD']['window_step'])\n",
    "time = window_size/sample_rate\n",
    "print(f\"sample_rate: {sample_rate}, n_samples = {window_size}, time: {time}s, n_channels: {n_channels}\")\n",
    "window_duration = get_window_duration(window_size, sample_rate)\n",
    "\n",
    "print(f\"window_size: {window_size}, window_step: {window_step}, window_duration: {window_duration}\")"
   ]
  },
  {
   "cell_type": "code",
   "execution_count": 9,
   "id": "f72aa184",
   "metadata": {},
   "outputs": [
    {
     "name": "stderr",
     "output_type": "stream",
     "text": [
      "VG_01:setup is valid but timestamps have issues. What does valid mean?\n",
      "VG_01:baseline is valid but timestamps have issues. What does valid mean?\n",
      "VG_06:takeoff_EEG is valid but timestamps have issues. What does valid mean?\n",
      "VG_07:takeoff_EEG is valid but timestamps have issues. What does valid mean?\n",
      "VG_08:family_inter is valid but timestamps have issues. What does valid mean?\n",
      "VG_10:setup is valid but timestamps have issues. What does valid mean?\n",
      "VG_10:takeoff_EEG is valid but timestamps have issues. What does valid mean?\n",
      "VH_01:family_inter is valid but timestamps have issues. What does valid mean?\n"
     ]
    }
   ],
   "source": [
    "all_participants_events = load_event_info_from_csv(\n",
    "        participant_list)"
   ]
  },
  {
   "cell_type": "code",
   "execution_count": 10,
   "id": "4ccecd8a",
   "metadata": {
    "scrolled": false
   },
   "outputs": [
    {
     "data": {
      "text/plain": [
       "array([1.63111335e+09, 1.63111335e+09, 1.63111335e+09, 1.63111335e+09,\n",
       "       1.63111335e+09, 1.63111335e+09, 1.63111335e+09, 1.63111335e+09,\n",
       "       1.63111335e+09, 1.63111335e+09, 1.63111336e+09, 1.63111336e+09,\n",
       "       1.63111336e+09, 1.63111336e+09, 1.63111336e+09, 1.63111336e+09,\n",
       "       1.63111336e+09, 1.63111336e+09, 1.63111336e+09, 1.63111336e+09,\n",
       "       1.63111336e+09, 1.63111336e+09, 1.63111336e+09, 1.63111336e+09,\n",
       "       1.63111336e+09, 1.63111336e+09, 1.63111336e+09, 1.63111336e+09,\n",
       "       1.63111336e+09, 1.63111336e+09, 1.63111336e+09, 1.63111337e+09,\n",
       "       1.63111337e+09, 1.63111337e+09, 1.63111337e+09, 1.63111337e+09,\n",
       "       1.63111337e+09, 1.63111337e+09, 1.63111337e+09, 1.63111337e+09,\n",
       "       1.63111337e+09, 1.63111337e+09, 1.63111337e+09, 1.63111337e+09,\n",
       "       1.63111337e+09, 1.63111337e+09, 1.63111337e+09, 1.63111337e+09,\n",
       "       1.63111337e+09, 1.63111337e+09, 1.63111338e+09, 1.63111338e+09,\n",
       "       1.63111338e+09, 1.63111338e+09, 1.63111338e+09, 1.63111338e+09,\n",
       "       1.63111338e+09, 1.63111338e+09, 1.63111338e+09, 1.63111338e+09,\n",
       "       1.63111338e+09, 1.63111338e+09, 1.63111338e+09, 1.63111338e+09,\n",
       "       1.63111338e+09, 1.63111338e+09, 1.63111338e+09, 1.63111338e+09,\n",
       "       1.63111338e+09, 1.63111338e+09, 1.63111338e+09, 1.63111339e+09,\n",
       "       1.63111339e+09, 1.63111339e+09, 1.63111339e+09, 1.63111339e+09,\n",
       "       1.63111339e+09, 1.63111339e+09, 1.63111339e+09, 1.63111339e+09,\n",
       "       1.63111339e+09, 1.63111339e+09, 1.63111339e+09, 1.63111339e+09,\n",
       "       1.63111339e+09, 1.63111339e+09, 1.63111339e+09, 1.63111339e+09,\n",
       "       1.63111339e+09, 1.63111339e+09, 1.63111340e+09, 1.63111340e+09,\n",
       "       1.63111340e+09, 1.63111340e+09, 1.63111340e+09, 1.63111340e+09,\n",
       "       1.63111340e+09, 1.63111340e+09, 1.63111340e+09, 1.63111340e+09,\n",
       "       1.63111340e+09, 1.63111340e+09, 1.63111340e+09, 1.63111340e+09,\n",
       "       1.63111340e+09, 1.63111340e+09, 1.63111340e+09, 1.63111340e+09,\n",
       "       1.63111340e+09, 1.63111340e+09, 1.63111340e+09, 1.63111341e+09,\n",
       "       1.63111341e+09, 1.63111341e+09, 1.63111341e+09, 1.63111341e+09,\n",
       "       1.63111341e+09, 1.63111341e+09, 1.63111341e+09, 1.63111341e+09,\n",
       "       1.63111341e+09, 1.63111341e+09, 1.63111341e+09, 1.63111341e+09,\n",
       "       1.63111341e+09, 1.63111341e+09, 1.63111341e+09, 1.63111341e+09,\n",
       "       1.63111341e+09, 1.63111341e+09, 1.63111342e+09, 1.63111342e+09,\n",
       "       1.63111342e+09, 1.63111342e+09, 1.63111342e+09, 1.63111342e+09,\n",
       "       1.63111342e+09, 1.63111342e+09, 1.63111342e+09, 1.63111342e+09,\n",
       "       1.63111342e+09, 1.63111342e+09, 1.63111342e+09, 1.63111342e+09,\n",
       "       1.63111342e+09, 1.63111342e+09, 1.63111342e+09, 1.63111342e+09,\n",
       "       1.63111342e+09, 1.63111342e+09, 1.63111342e+09, 1.63111343e+09,\n",
       "       1.63111343e+09, 1.63111343e+09, 1.63111343e+09, 1.63111343e+09,\n",
       "       1.63111343e+09, 1.63111343e+09, 1.63111343e+09, 1.63111343e+09,\n",
       "       1.63111343e+09, 1.63111343e+09, 1.63111343e+09, 1.63111343e+09,\n",
       "       1.63111343e+09, 1.63111343e+09, 1.63111343e+09, 1.63111343e+09,\n",
       "       1.63111343e+09, 1.63111343e+09, 1.63111344e+09, 1.63111344e+09,\n",
       "       1.63111344e+09, 1.63111344e+09, 1.63111344e+09, 1.63111344e+09,\n",
       "       1.63111344e+09, 1.63111344e+09, 1.63111344e+09, 1.63111344e+09,\n",
       "       1.63111344e+09, 1.63111344e+09, 1.63111344e+09, 1.63111344e+09,\n",
       "       1.63111344e+09, 1.63111344e+09, 1.63111344e+09, 1.63111344e+09,\n",
       "       1.63111344e+09, 1.63111344e+09, 1.63111344e+09, 1.63111345e+09,\n",
       "       1.63111345e+09, 1.63111345e+09, 1.63111345e+09, 1.63111345e+09,\n",
       "       1.63111345e+09, 1.63111345e+09, 1.63111345e+09, 1.63111345e+09,\n",
       "       1.63111345e+09, 1.63111345e+09, 1.63111345e+09, 1.63111345e+09,\n",
       "       1.63111345e+09, 1.63111345e+09, 1.63111345e+09, 1.63111345e+09,\n",
       "       1.63111345e+09, 1.63111345e+09, 1.63111346e+09, 1.63111346e+09,\n",
       "       1.63111346e+09, 1.63111346e+09, 1.63111346e+09, 1.63111346e+09,\n",
       "       1.63111346e+09, 1.63111346e+09, 1.63111346e+09, 1.63111346e+09,\n",
       "       1.63111346e+09, 1.63111346e+09, 1.63111346e+09, 1.63111346e+09,\n",
       "       1.63111346e+09, 1.63111346e+09, 1.63111346e+09, 1.63111346e+09,\n",
       "       1.63111346e+09, 1.63111346e+09, 1.63111346e+09, 1.63111347e+09,\n",
       "       1.63111347e+09, 1.63111347e+09, 1.63111347e+09, 1.63111347e+09,\n",
       "       1.63111347e+09, 1.63111347e+09, 1.63111347e+09, 1.63111347e+09,\n",
       "       1.63111347e+09, 1.63111347e+09, 1.63111347e+09, 1.63111347e+09,\n",
       "       1.63111347e+09, 1.63111347e+09, 1.63111347e+09, 1.63111347e+09,\n",
       "       1.63111347e+09, 1.63111347e+09, 1.63111348e+09, 1.63111348e+09,\n",
       "       1.63111348e+09, 1.63111348e+09, 1.63111348e+09, 1.63111348e+09,\n",
       "       1.63111348e+09, 1.63111348e+09, 1.63111348e+09, 1.63111348e+09,\n",
       "       1.63111348e+09, 1.63111348e+09, 1.63111348e+09, 1.63111348e+09,\n",
       "       1.63111348e+09, 1.63111348e+09, 1.63111348e+09, 1.63111348e+09,\n",
       "       1.63111348e+09, 1.63111348e+09, 1.63111348e+09, 1.63111349e+09,\n",
       "       1.63111349e+09, 1.63111349e+09, 1.63111349e+09, 1.63111349e+09,\n",
       "       1.63111349e+09, 1.63111349e+09, 1.63111349e+09, 1.63111349e+09,\n",
       "       1.63111349e+09, 1.63111349e+09, 1.63111349e+09, 1.63111349e+09,\n",
       "       1.63111349e+09, 1.63111349e+09, 1.63111349e+09, 1.63111349e+09,\n",
       "       1.63111349e+09, 1.63111349e+09, 1.63111350e+09, 1.63111350e+09,\n",
       "       1.63111350e+09, 1.63111350e+09, 1.63111350e+09, 1.63111350e+09,\n",
       "       1.63111350e+09, 1.63111350e+09, 1.63111350e+09, 1.63111350e+09,\n",
       "       1.63111350e+09, 1.63111350e+09, 1.63111350e+09, 1.63111350e+09,\n",
       "       1.63111350e+09, 1.63111350e+09, 1.63111350e+09, 1.63111350e+09,\n",
       "       1.63111350e+09, 1.63111350e+09, 1.63111350e+09, 1.63111351e+09,\n",
       "       1.63111351e+09, 1.63111351e+09, 1.63111351e+09, 1.63111351e+09,\n",
       "       1.63111351e+09, 1.63111351e+09, 1.63111351e+09, 1.63111351e+09,\n",
       "       1.63111351e+09, 1.63111351e+09, 1.63111351e+09, 1.63111351e+09,\n",
       "       1.63111351e+09, 1.63111351e+09, 1.63111351e+09, 1.63111351e+09,\n",
       "       1.63111351e+09, 1.63111351e+09, 1.63111352e+09, 1.63111352e+09,\n",
       "       1.63111352e+09, 1.63111352e+09, 1.63111352e+09, 1.63111352e+09,\n",
       "       1.63111352e+09, 1.63111352e+09, 1.63111352e+09, 1.63111352e+09,\n",
       "       1.63111352e+09, 1.63111352e+09, 1.63111352e+09, 1.63111352e+09,\n",
       "       1.63111352e+09, 1.63111352e+09, 1.63111352e+09, 1.63111352e+09,\n",
       "       1.63111352e+09, 1.63111352e+09, 1.63111352e+09, 1.63111353e+09,\n",
       "       1.63111353e+09, 1.63111353e+09, 1.63111353e+09, 1.63111353e+09,\n",
       "       1.63111353e+09, 1.63111353e+09, 1.63111353e+09, 1.63111353e+09,\n",
       "       1.63111353e+09, 1.63111353e+09, 1.63111353e+09, 1.63111353e+09,\n",
       "       1.63111353e+09, 1.63111353e+09, 1.63111353e+09, 1.63111353e+09,\n",
       "       1.63111353e+09, 1.63111353e+09, 1.63111354e+09, 1.63111354e+09,\n",
       "       1.63111354e+09, 1.63111354e+09, 1.63111354e+09, 1.63111354e+09,\n",
       "       1.63111354e+09, 1.63111354e+09, 1.63111354e+09, 1.63111354e+09,\n",
       "       1.63111354e+09, 1.63111354e+09, 1.63111354e+09, 1.63111354e+09,\n",
       "       1.63111354e+09, 1.63111354e+09, 1.63111354e+09, 1.63111354e+09,\n",
       "       1.63111354e+09, 1.63111354e+09, 1.63111354e+09, 1.63111355e+09,\n",
       "       1.63111355e+09, 1.63111355e+09, 1.63111355e+09, 1.63111355e+09,\n",
       "       1.63111355e+09, 1.63111355e+09, 1.63111355e+09, 1.63111355e+09,\n",
       "       1.63111355e+09, 1.63111355e+09, 1.63111355e+09, 1.63111355e+09,\n",
       "       1.63111355e+09, 1.63111355e+09, 1.63111355e+09, 1.63111355e+09,\n",
       "       1.63111355e+09, 1.63111355e+09, 1.63111356e+09, 1.63111356e+09,\n",
       "       1.63111356e+09, 1.63111356e+09, 1.63111356e+09, 1.63111356e+09,\n",
       "       1.63111356e+09, 1.63111356e+09, 1.63111356e+09, 1.63111356e+09,\n",
       "       1.63111356e+09, 1.63111356e+09, 1.63111356e+09, 1.63111356e+09,\n",
       "       1.63111356e+09, 1.63111356e+09, 1.63111356e+09, 1.63111356e+09,\n",
       "       1.63111356e+09, 1.63111356e+09, 1.63111356e+09, 1.63111357e+09,\n",
       "       1.63111357e+09, 1.63111357e+09, 1.63111357e+09, 1.63111357e+09,\n",
       "       1.63111357e+09, 1.63111357e+09, 1.63111357e+09, 1.63111357e+09,\n",
       "       1.63111357e+09, 1.63111357e+09, 1.63111357e+09, 1.63111357e+09,\n",
       "       1.63111357e+09, 1.63111357e+09, 1.63111357e+09, 1.63111357e+09,\n",
       "       1.63111357e+09, 1.63111357e+09, 1.63111358e+09, 1.63111358e+09,\n",
       "       1.63111358e+09, 1.63111358e+09, 1.63111358e+09, 1.63111358e+09,\n",
       "       1.63111358e+09, 1.63111358e+09, 1.63111358e+09, 1.63111358e+09,\n",
       "       1.63111358e+09, 1.63111358e+09, 1.63111358e+09, 1.63111358e+09,\n",
       "       1.63111358e+09, 1.63111358e+09, 1.63111358e+09, 1.63111358e+09,\n",
       "       1.63111358e+09, 1.63111358e+09, 1.63111358e+09, 1.63111359e+09,\n",
       "       1.63111359e+09])"
      ]
     },
     "execution_count": 10,
     "metadata": {},
     "output_type": "execute_result"
    }
   ],
   "source": [
    "participant = 'VG_01'\n",
    "condition_id = 1\n",
    "condition_name = conditions[0]\n",
    "participant_events = all_participants_events[participant]\n",
    "filter_ = (windoweddf['participant']==participant)&(windoweddf['condition']==condition_id)\n",
    "n_windows = len(windoweddf[filter_])\n",
    "windoweddf.loc[filter_, ('window index',)] = np.arange(n_windows)\n",
    "window_start_unixtimes = np.empty(n_windows)\n",
    "for w, window_index in enumerate(windoweddf[filter_]['window index']):\n",
    "    window_start_in_event_time = \\\n",
    "        get_window_start_in_event_time(\n",
    "            window_index, window_step, sample_rate)\n",
    "    window_start_unixtime = \\\n",
    "        participant_events.in_event_time_to_unixtime(\n",
    "            condition_name,window_start_in_event_time)\n",
    "    window_start_unixtimes[w] = window_start_unixtime\n",
    "window_start_unixtimes"
   ]
  },
  {
   "cell_type": "code",
   "execution_count": 14,
   "id": "6b9d0c93",
   "metadata": {},
   "outputs": [
    {
     "data": {
      "text/plain": [
       "array([0.5, 0.5, 0.5, 0.5, 0.5, 0.5, 0.5, 0.5, 0.5, 0.5])"
      ]
     },
     "execution_count": 14,
     "metadata": {},
     "output_type": "execute_result"
    }
   ],
   "source": [
    "window_start_unixtimes[1:11] - window_start_unixtimes[0:10]"
   ]
  },
  {
   "cell_type": "code",
   "execution_count": 11,
   "id": "04236155",
   "metadata": {},
   "outputs": [
    {
     "data": {
      "text/plain": [
       "25296"
      ]
     },
     "execution_count": 11,
     "metadata": {},
     "output_type": "execute_result"
    }
   ],
   "source": [
    "len(windoweddf)"
   ]
  },
  {
   "cell_type": "code",
   "execution_count": 12,
   "id": "7951d891",
   "metadata": {},
   "outputs": [],
   "source": [
    "# subdir = '20231206193533'\n",
    "\n",
    "# featured_data_dir = os.path.join(FEATURED_BASE_PATH,subdir)\n",
    "\n",
    "# featureddf, featured_config = load_dataframe_and_config(\n",
    "#     featured_data_dir, 'featured.csv')\n",
    "# n_channels = int(featured_config['LOAD']['n_channels'])\n",
    "# channels = json.loads(featured_config['LOAD']['channels'].replace(\"'\",'\"'))\n",
    "# participant_list = json.loads(featured_config['LOAD']['participant_list'].replace(\"'\",'\"'))\n",
    "# Fs = int(featured_config['LOAD']['sample_rate'])\n",
    "# window_size = int(featured_config['LOAD']['window_size'])\n",
    "# time = window_size/Fs\n",
    "# print(f\"Fs: {Fs}, n_samples = {window_size}, time: {time}s, n_channels: {n_channels}\")\n"
   ]
  }
 ],
 "metadata": {
  "kernelspec": {
   "display_name": "Python 3 (ipykernel)",
   "language": "python",
   "name": "python3"
  },
  "language_info": {
   "codemirror_mode": {
    "name": "ipython",
    "version": 3
   },
   "file_extension": ".py",
   "mimetype": "text/x-python",
   "name": "python",
   "nbconvert_exporter": "python",
   "pygments_lexer": "ipython3",
   "version": "3.10.12"
  }
 },
 "nbformat": 4,
 "nbformat_minor": 5
}
