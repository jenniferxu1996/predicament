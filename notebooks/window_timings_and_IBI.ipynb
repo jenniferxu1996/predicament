{
 "cells": [
  {
   "cell_type": "code",
   "execution_count": 1,
   "id": "bffff5a5",
   "metadata": {},
   "outputs": [
    {
     "name": "stdout",
     "output_type": "stream",
     "text": [
      "['logs', 'feature_development.ipynb', 'data', 'data_and_processing_description.ipynb', 'featured_eeg_prediction.ipynb', 'featured_prediction_random_forest.ipynb', 'window_timings_and_IBI.ipynb', 'gait_data_exploration.ipynb', 'featured_eeg_prediction_gradient_boosting.ipynb', 'Analyse_results.ipynb', '.ipynb_checkpoints', 'loading_e4_data.ipynb', 'featured_E4_prediction.ipynb', 'data_investigation_scratch.ipynb', 'grouping_and_crossvalidation.ipynb']\n"
     ]
    }
   ],
   "source": [
    "import numpy as np \n",
    "import pandas as pd \n",
    "import matplotlib.pyplot as plt\n",
    "import itertools\n",
    "import json\n",
    "from datetime import datetime\n",
    "import scipy.stats\n",
    "\n",
    "\n",
    "import scipy.stats as spstats\n",
    "# fourier transform\n",
    "from scipy.fft import fft, ifft\n",
    "\n",
    "from sklearn.metrics import classification_report\n",
    "from sklearn.ensemble import RandomForestClassifier, GradientBoostingClassifier\n",
    "\n",
    "import matplotlib.pyplot as plt\n",
    "import pandas as pd\n",
    "import seaborn as sns\n",
    "# from statsmodels.tsa.api import acf, graphics, pacf\n",
    "from statsmodels.tsa.ar_model import AutoReg\n",
    "# from statsmodels.tsa.ar_model import ar_select_order\n",
    "\n",
    "import os\n",
    "print(os.listdir(\".\"))\n",
    "\n",
    "\n",
    "import re\n",
    "res_digit = r'[0-9]'\n"
   ]
  },
  {
   "cell_type": "code",
   "execution_count": 2,
   "id": "b8e36968",
   "metadata": {},
   "outputs": [
    {
     "name": "stdout",
     "output_type": "stream",
     "text": [
      "thisdir = /home/luke/git/external/predicament/notebooks\n",
      "Adding parent directory to python path\n",
      "sys.path =\n",
      "['/home/luke/git/external/predicament/notebooks', '/home/luke/git/external/predicament', '/usr/lib/python310.zip', '/usr/lib/python3.10', '/usr/lib/python3.10/lib-dynload', '', '/home/luke/.local/lib/python3.10/site-packages', '/usr/local/lib/python3.10/dist-packages', '/usr/lib/python3/dist-packages', '/usr/lib/python3.10/dist-packages']\n"
     ]
    }
   ],
   "source": [
    "# This is a hack to make the library in the parent folder available for imoprts\n",
    "# A better solution is by np8 here:\n",
    "# https://stackoverflow.com/questions/714063/importing-modules-from-parent-folder\n",
    "import sys\n",
    "import os\n",
    "import inspect\n",
    "\n",
    "thisdir = sys.path[0]\n",
    "print(f\"thisdir = {thisdir}\")\n",
    "parentdir = os.path.dirname(thisdir)\n",
    "#print(f\"parentdir = {parentdir}\")\n",
    "if not parentdir in sys.path:\n",
    "    print(\"Adding parent directory to python path\")\n",
    "    sys.path.insert(1, parentdir)\n",
    "else:\n",
    "    print(\"Skipping adding parent direct to path (there already)\")\n",
    "\n",
    "print(f\"sys.path =\\n{sys.path}\")\n"
   ]
  },
  {
   "cell_type": "code",
   "execution_count": 3,
   "id": "92989bc0",
   "metadata": {},
   "outputs": [],
   "source": [
    "## ensure relative path to data directory is sound\n",
    "# for the notebook we need to modify the BASE_DATA_FOLDER\n",
    "import os \n",
    "os.environ['PREDICAMENT_DATA_DIR'] =  '../data'"
   ]
  },
  {
   "cell_type": "code",
   "execution_count": 4,
   "id": "8cd26e89",
   "metadata": {},
   "outputs": [],
   "source": [
    "from predicament.utils.config import DREEM_EEG_CHANNELS\n",
    "from predicament.utils.config import FEATURED_BASE_PATH\n",
    "from predicament.utils.config import WINDOWED_BASE_PATH\n",
    "from predicament.utils.config import E4_FULL_DIRPATHS\n",
    "from predicament.utils.config import E4_IBI_FILE\n",
    "\n",
    "from predicament.data.timeseries import create_participant_data_edf_only\n",
    "from predicament.data.windowed import window_all_participants_data\n",
    "from predicament.data.windowed import merge_condition_data\n",
    "from predicament.data.windowed import get_window_start_in_event_time\n",
    "from predicament.data.windowed import get_window_duration\n",
    "from predicament.data.windowed import correct_window_indices\n",
    "from predicament.data.windowed import insert_window_start_and_end_times\n",
    "from predicament.data.windowed import get_window_start_times_for_participant\n",
    "\n",
    "\n",
    "from predicament.data.partitioning import between_subject_cv_partition\n",
    "\n",
    "from predicament.data.features import MAXIMAL_FEATURE_GROUP\n",
    "from predicament.data.features import STATS_FEATURE_GROUP\n",
    "from predicament.data.features import INFO_FEATURE_GROUP\n",
    "from predicament.data.features import FREQ_FEATURE_GROUP\n",
    "from predicament.data.features import convert_timeseries_to_features\n",
    "from prepare_evaluation_data import load_dataframe_and_config\n"
   ]
  },
  {
   "cell_type": "code",
   "execution_count": 5,
   "id": "00d748ab",
   "metadata": {},
   "outputs": [],
   "source": [
    "from predicament.data.events import load_event_info_from_csv\n"
   ]
  },
  {
   "cell_type": "code",
   "execution_count": 6,
   "id": "35487a47",
   "metadata": {},
   "outputs": [
    {
     "data": {
      "text/plain": [
       "{'VG_01': '../data/CARE_HOME_DATA/./VG01/E4_8921_15_44/',\n",
       " 'VG_03': '../data/CARE_HOME_DATA/./VG03/E4_9921_12_16/',\n",
       " 'VG_05': '../data/CARE_HOME_DATA/./VG05/E4_9921_13_24/',\n",
       " 'VG_06': '../data/CARE_HOME_DATA/./VG06/E4_51021_13_33/',\n",
       " 'VG_07': '../data/CARE_HOME_DATA/./VG07/E4_51021_15_39/',\n",
       " 'VG_08': '../data/CARE_HOME_DATA/./VG08/E4_71021_10_42/',\n",
       " 'VG_09': '../data/CARE_HOME_DATA/./VG09/E4_11221_14_46/',\n",
       " 'VG_10': '../data/CARE_HOME_DATA/./VG10/E4_31221_11_17/',\n",
       " 'VH_01': '../data/CARE_HOME_DATA/./VH01/E4_61021_11_03/',\n",
       " 'VH_02': '../data/CARE_HOME_DATA/./VH02/E4_61021_13_59/',\n",
       " 'VH_03': '../data/CARE_HOME_DATA/./VH03/E4_11221_11_22/'}"
      ]
     },
     "execution_count": 6,
     "metadata": {},
     "output_type": "execute_result"
    }
   ],
   "source": [
    "from predicament.utils.config import E4_CSV_FILES\n",
    "from predicament.utils.config import E4_FULL_DIRPATHS\n",
    "E4_FULL_DIRPATHS"
   ]
  },
  {
   "cell_type": "code",
   "execution_count": 7,
   "id": "78cb9a8e",
   "metadata": {},
   "outputs": [],
   "source": [
    "subdir = '20231206193533'\n",
    "featured_data_dir = os.path.join(FEATURED_BASE_PATH,subdir)\n",
    "\n",
    "featureddf, featured_config = load_dataframe_and_config(\n",
    "    featured_data_dir, 'featured.csv')"
   ]
  },
  {
   "cell_type": "code",
   "execution_count": 8,
   "id": "edf10c16",
   "metadata": {},
   "outputs": [
    {
     "name": "stdout",
     "output_type": "stream",
     "text": [
      "sample_rate: 64, n_samples = 256, time: 4.0s, n_channels: 7\n",
      "window_size: 256, window_step: 32, window_duration: 4.0\n"
     ]
    }
   ],
   "source": [
    "# we collect all the general information about the datafile\n",
    "# fro mthe config file\n",
    "# in particular we need to know window lengths, window steps (strides)\n",
    "# and sample rates as well as the mapping from label (condition_id) to \n",
    "# condition name\n",
    "n_channels = int(featured_config['LOAD']['n_channels'])\n",
    "channels = json.loads(featured_config['LOAD']['channels'].replace(\"'\",'\"'))\n",
    "participant_list = json.loads(featured_config['LOAD']['participant_list'].replace(\"'\",'\"'))\n",
    "label_mapping = json.loads(featured_config['LOAD']['label_mapping'].replace(\"'\",'\"'))\n",
    "sample_rate = int(featured_config['LOAD']['sample_rate'])\n",
    "window_size = int(featured_config['LOAD']['window_size'])\n",
    "window_step = int(featured_config['LOAD']['window_step'])\n",
    "time = window_size/sample_rate\n",
    "print(f\"sample_rate: {sample_rate}, n_samples = {window_size}, time: {time}s, n_channels: {n_channels}\")\n",
    "window_duration = get_window_duration(window_size, sample_rate)\n",
    "\n",
    "print(f\"window_size: {window_size}, window_step: {window_step}, window_duration: {window_duration}\")"
   ]
  },
  {
   "cell_type": "code",
   "execution_count": 9,
   "id": "c3021f97",
   "metadata": {},
   "outputs": [
    {
     "data": {
      "text/plain": [
       "['VG_01',\n",
       " 'VG_03',\n",
       " 'VG_05',\n",
       " 'VG_06',\n",
       " 'VG_07',\n",
       " 'VG_08',\n",
       " 'VG_09',\n",
       " 'VG_10',\n",
       " 'VH_01',\n",
       " 'VH_02',\n",
       " 'VH_03']"
      ]
     },
     "execution_count": 9,
     "metadata": {},
     "output_type": "execute_result"
    }
   ],
   "source": [
    "participant_list"
   ]
  },
  {
   "cell_type": "code",
   "execution_count": 10,
   "id": "5d4c0708",
   "metadata": {},
   "outputs": [
    {
     "name": "stderr",
     "output_type": "stream",
     "text": [
      "VG_01:setup is valid but timestamps have issues. What does valid mean?\n",
      "VG_01:baseline is valid but timestamps have issues. What does valid mean?\n",
      "VG_06:takeoff_EEG is valid but timestamps have issues. What does valid mean?\n",
      "VG_07:takeoff_EEG is valid but timestamps have issues. What does valid mean?\n",
      "VG_08:family_inter is valid but timestamps have issues. What does valid mean?\n",
      "VG_10:setup is valid but timestamps have issues. What does valid mean?\n",
      "VG_10:takeoff_EEG is valid but timestamps have issues. What does valid mean?\n",
      "VH_01:family_inter is valid but timestamps have issues. What does valid mean?\n"
     ]
    }
   ],
   "source": [
    "# we must load the participant event objects for the observational\n",
    "# data\n",
    "all_participants_events = load_event_info_from_csv(\n",
    "        participant_list)"
   ]
  },
  {
   "cell_type": "code",
   "execution_count": 14,
   "id": "88466bc9",
   "metadata": {},
   "outputs": [],
   "source": [
    "# we must correct the window indices as these can be incorrect\n",
    "# on older files. Needs revisiting in the preprocessing\n",
    "participants = list(all_participants_events.keys())\n",
    "correct_window_indices(participants, label_mapping, featureddf)"
   ]
  },
  {
   "cell_type": "code",
   "execution_count": 15,
   "id": "fc301269",
   "metadata": {},
   "outputs": [
    {
     "data": {
      "text/plain": [
       "(1073,)"
      ]
     },
     "execution_count": 15,
     "metadata": {},
     "output_type": "execute_result"
    }
   ],
   "source": [
    "# participant = 'VG_07'\n",
    "# condition_id = 3\n",
    "# participant_events = all_participants_events[participant]\n",
    "# window_start_times = get_window_start_times_for_participant(\n",
    "#         participant_events, condition_id, label_mapping,\n",
    "#         featureddf, window_step, sample_rate)\n",
    "# window_start_times.shape"
   ]
  },
  {
   "cell_type": "code",
   "execution_count": 16,
   "id": "ef37c90f",
   "metadata": {},
   "outputs": [
    {
     "name": "stdout",
     "output_type": "stream",
     "text": [
      "participant = VG_01, condition = exper_video\n",
      "participant = VG_01, condition = familiar_music\n",
      "participant = VG_01, condition = family_inter\n",
      "participant = VG_01, condition = tchaikovsky\n",
      "participant = VG_01, condition = wildlife_video\n",
      "participant = VG_03, condition = exper_video\n",
      "participant = VG_03, condition = familiar_music\n",
      "participant = VG_03, condition = family_inter\n",
      "participant = VG_03, condition = tchaikovsky\n",
      "participant = VG_03, condition = wildlife_video\n",
      "participant = VG_05, condition = exper_video\n",
      "participant = VG_05, condition = familiar_music\n",
      "participant = VG_05, condition = family_inter\n",
      "participant = VG_05, condition = tchaikovsky\n",
      "participant = VG_05, condition = wildlife_video\n",
      "participant = VG_06, condition = exper_video\n",
      "participant = VG_06, condition = familiar_music\n",
      "participant = VG_06, condition = family_inter\n",
      "participant = VG_06, condition = tchaikovsky\n",
      "participant = VG_06, condition = wildlife_video\n",
      "participant = VG_07, condition = exper_video\n",
      "participant = VG_07, condition = familiar_music\n",
      "participant = VG_07, condition = family_inter\n",
      "participant = VG_07, condition = tchaikovsky\n",
      "participant = VG_07, condition = wildlife_video\n",
      "participant = VG_08, condition = exper_video\n",
      "participant = VG_08, condition = familiar_music\n",
      "participant = VG_08, condition = family_inter\n",
      "participant = VG_08, condition = tchaikovsky\n",
      "participant = VG_08, condition = wildlife_video\n",
      "participant = VG_09, condition = exper_video\n",
      "participant = VG_09, condition = familiar_music\n",
      "participant = VG_09, condition = family_inter\n",
      "participant = VG_09, condition = tchaikovsky\n",
      "participant = VG_09, condition = wildlife_video\n",
      "participant = VG_10, condition = exper_video\n",
      "participant = VG_10, condition = familiar_music\n",
      "participant = VG_10, condition = family_inter\n",
      "participant = VG_10, condition = tchaikovsky\n",
      "participant = VG_10, condition = wildlife_video\n",
      "participant = VH_01, condition = exper_video\n",
      "participant = VH_01, condition = familiar_music\n",
      "participant = VH_01, condition = family_inter\n",
      "participant = VH_01, condition = tchaikovsky\n",
      "participant = VH_01, condition = wildlife_video\n",
      "participant = VH_02, condition = exper_video\n",
      "participant = VH_02, condition = familiar_music\n",
      "participant = VH_02, condition = family_inter\n",
      "participant = VH_02, condition = tchaikovsky\n",
      "participant = VH_02, condition = wildlife_video\n",
      "participant = VH_03, condition = exper_video\n",
      "participant = VH_03, condition = familiar_music\n",
      "participant = VH_03, condition = family_inter\n",
      "participant = VH_03, condition = tchaikovsky\n",
      "participant = VH_03, condition = wildlife_video\n"
     ]
    }
   ],
   "source": [
    "# we must insert start and end times to our dataframe\n",
    "# in order to compare with the ibi files\n",
    "insert_window_start_and_end_times(all_participants_events, label_mapping, featureddf, window_size, window_step, sample_rate)"
   ]
  },
  {
   "cell_type": "code",
   "execution_count": 18,
   "id": "5c721a42",
   "metadata": {},
   "outputs": [
    {
     "name": "stdout",
     "output_type": "stream",
     "text": [
      "ibi_path = ../data/CARE_HOME_DATA/./VG01/E4_8921_15_44/IBI.csv\n"
     ]
    },
    {
     "data": {
      "text/html": [
       "<div>\n",
       "<style scoped>\n",
       "    .dataframe tbody tr th:only-of-type {\n",
       "        vertical-align: middle;\n",
       "    }\n",
       "\n",
       "    .dataframe tbody tr th {\n",
       "        vertical-align: top;\n",
       "    }\n",
       "\n",
       "    .dataframe thead th {\n",
       "        text-align: right;\n",
       "    }\n",
       "</style>\n",
       "<table border=\"1\" class=\"dataframe\">\n",
       "  <thead>\n",
       "    <tr style=\"text-align: right;\">\n",
       "      <th></th>\n",
       "      <th>local time</th>\n",
       "      <th>ibi</th>\n",
       "      <th>unix time</th>\n",
       "    </tr>\n",
       "  </thead>\n",
       "  <tbody>\n",
       "    <tr>\n",
       "      <th>1</th>\n",
       "      <td>142.3125</td>\n",
       "      <td>1.031250</td>\n",
       "      <td>1631112418.3125</td>\n",
       "    </tr>\n",
       "    <tr>\n",
       "      <th>2</th>\n",
       "      <td>143.3125</td>\n",
       "      <td>1.000000</td>\n",
       "      <td>1631112419.3125</td>\n",
       "    </tr>\n",
       "    <tr>\n",
       "      <th>3</th>\n",
       "      <td>144.3125</td>\n",
       "      <td>1.000000</td>\n",
       "      <td>1631112420.3125</td>\n",
       "    </tr>\n",
       "    <tr>\n",
       "      <th>4</th>\n",
       "      <td>145.328125</td>\n",
       "      <td>1.015625</td>\n",
       "      <td>1631112421.328125</td>\n",
       "    </tr>\n",
       "    <tr>\n",
       "      <th>5</th>\n",
       "      <td>146.296875</td>\n",
       "      <td>0.968750</td>\n",
       "      <td>1631112422.296875</td>\n",
       "    </tr>\n",
       "    <tr>\n",
       "      <th>...</th>\n",
       "      <td>...</td>\n",
       "      <td>...</td>\n",
       "      <td>...</td>\n",
       "    </tr>\n",
       "    <tr>\n",
       "      <th>1496</th>\n",
       "      <td>3651.25</td>\n",
       "      <td>0.937500</td>\n",
       "      <td>1631115927.25</td>\n",
       "    </tr>\n",
       "    <tr>\n",
       "      <th>1497</th>\n",
       "      <td>3652.171875</td>\n",
       "      <td>0.921875</td>\n",
       "      <td>1631115928.171875</td>\n",
       "    </tr>\n",
       "    <tr>\n",
       "      <th>1498</th>\n",
       "      <td>3653.0625</td>\n",
       "      <td>0.890625</td>\n",
       "      <td>1631115929.0625</td>\n",
       "    </tr>\n",
       "    <tr>\n",
       "      <th>1499</th>\n",
       "      <td>3653.96875</td>\n",
       "      <td>0.906250</td>\n",
       "      <td>1631115929.96875</td>\n",
       "    </tr>\n",
       "    <tr>\n",
       "      <th>1500</th>\n",
       "      <td>3654.90625</td>\n",
       "      <td>0.937500</td>\n",
       "      <td>1631115930.90625</td>\n",
       "    </tr>\n",
       "  </tbody>\n",
       "</table>\n",
       "<p>1500 rows × 3 columns</p>\n",
       "</div>"
      ],
      "text/plain": [
       "       local time       ibi          unix time\n",
       "1        142.3125  1.031250    1631112418.3125\n",
       "2        143.3125  1.000000    1631112419.3125\n",
       "3        144.3125  1.000000    1631112420.3125\n",
       "4      145.328125  1.015625  1631112421.328125\n",
       "5      146.296875  0.968750  1631112422.296875\n",
       "...           ...       ...                ...\n",
       "1496      3651.25  0.937500      1631115927.25\n",
       "1497  3652.171875  0.921875  1631115928.171875\n",
       "1498    3653.0625  0.890625    1631115929.0625\n",
       "1499   3653.96875  0.906250   1631115929.96875\n",
       "1500   3654.90625  0.937500   1631115930.90625\n",
       "\n",
       "[1500 rows x 3 columns]"
      ]
     },
     "metadata": {},
     "output_type": "display_data"
    }
   ],
   "source": [
    "## To move to an appropriate module\n",
    "# get ibi file for the participant and read+preprocess dataframe\n",
    "ibi_path = os.path.join(E4_FULL_DIRPATHS[participant], E4_IBI_FILE)\n",
    "print(f\"ibi_path = {ibi_path}\")\n",
    "ibi_df = pd.read_csv(ibi_path, header=None)\n",
    "df_t = ibi_df.T\n",
    "first_row = df_t.pop(0)\n",
    "file_start_time = first_row[0]\n",
    "ibi_df = df_t.T\n",
    "mapper={0:'local time', 1:'ibi'}\n",
    "ibi_df = ibi_df.rename(columns=mapper)\n",
    "# the universal times of the beats are the local times\n",
    "# plus the universal start time for the file\n",
    "ibi_df['unix time'] = ibi_df['local time'] + file_start_time\n",
    "\n",
    "# get array of unix times from ibi file\n",
    "ibi_unix_times = ibi_df['unix time'].to_numpy()\n",
    "ibis = ibi_df['ibi'].to_numpy().astype(float)\n",
    "\n",
    "# successive differences are the differences between inter-beat intervals (ibis)\n",
    "successive_differences = np.diff(ibis)\n",
    "sd_unix_times = ibi_unix_times[:-1]\n",
    "\n",
    "# we want to impute the successive difference if there are no\n",
    "# data within a given time window. We do this with the median\n",
    "# as default value. This also serves as a normaliser if\n",
    "# normalisation is required\n",
    "median_sd = np.sqrt(np.median(successive_differences**2))\n"
   ]
  },
  {
   "cell_type": "code",
   "execution_count": 19,
   "id": "209d5245",
   "metadata": {},
   "outputs": [],
   "source": [
    "# to move to somewhere (probably predicament.data.ibi)\n",
    "\n",
    "def getrmssds_for_participant_condition(\n",
    "        participant, condition_id, datadf, successive_differences, sd_unix_times,\n",
    "        default_sd, norm_result=True):\n",
    "    filter_ = datadf['participant'] == participant \n",
    "    filter_ &= datadf['condition'] == condition_id \n",
    "\n",
    "    start_end_times = datadf.loc[filter_, ('start time','end time')].to_numpy()\n",
    "    print(f\"start_end_times.shape = {start_end_times.shape}\")\n",
    "\n",
    "    # reshape successive differences\n",
    "    successive_differences = successive_differences.reshape(-1,1)\n",
    "    # now we create a matrix whose rows are ibi entries\n",
    "    # and columns are window start and end times, true for cell\n",
    "    # (i,j) if ibi row i is in window j\n",
    "    sd_unix_times = sd_unix_times.reshape(-1,1)\n",
    "    filter_stack = (sd_unix_times > start_end_times.T[0,:]) & (sd_unix_times <= start_end_times.T[1,:])\n",
    "    filter_stack = filter_stack.astype(int)\n",
    "\n",
    "    # the filter is used to pull out only successive differences from the \n",
    "    # window in question (with marginal overlap to calculate the final succesive difference)\n",
    "    sum_ssds = np.sum(((successive_differences**2)*filter_stack), axis=0)\n",
    "    # we want to calculate a denominator for each row based on how many \n",
    "    # true elements are in that column of the filter stack\n",
    "    denominator = np.sum(filter_stack,axis=0).reshape(1,-1)\n",
    "    # the mean squared successive difference for each window is then the normalised sum\n",
    "    # Note: we avoid dividing by zero by forcing empty columns in filterstack to \n",
    "    # be counted as having sum 1\n",
    "    mssds = sum_ssds/np.maximum(denominator,1)\n",
    "    # square root the result\n",
    "    rmssds = np.sqrt(mssds)\n",
    "    # now impute rmssd for the columns in filter_stack with too few values\n",
    "    # from a brief back of the envelope investigation, I make this 2 or less\n",
    "    rmssds[denominator<=2] = default_sd\n",
    "    # finally, the sampling rate at 64 Hz means that very small\n",
    "    # variations are missed. For very rare instances where 3 or \n",
    "    # more successive differences are exactly equal, we\n",
    "    # replace with a default value (default_sd/e seems conservative)\n",
    "    # This allows us to consider logging the values\n",
    "    rmssds[rmssds==0] = default_sd*np.exp(-1)\n",
    "    rmssds = rmssds.flatten()\n",
    "    if not norm_result:\n",
    "        return rmssds\n",
    "    # normalisation then facilitates generalisation across participants\n",
    "    # normed_rmssds = (rmssds - median_sd)/mad_sd\n",
    "    normed_rmssds = rmssds/median_sd\n",
    "    return normed_rmssds\n"
   ]
  },
  {
   "cell_type": "code",
   "execution_count": 21,
   "id": "e34ce033",
   "metadata": {},
   "outputs": [
    {
     "name": "stdout",
     "output_type": "stream",
     "text": [
      "start_end_times.shape = (473, 2)\n"
     ]
    }
   ],
   "source": [
    "normed_rmssds = getrmssds_for_participant_condition(\n",
    "        participant, condition_id, featureddf, successive_differences, sd_unix_times,\n",
    "        median_sd, norm_result=True)"
   ]
  },
  {
   "cell_type": "markdown",
   "id": "b11154e1",
   "metadata": {},
   "source": [
    "## Sanity checks for data and inferred times"
   ]
  },
  {
   "cell_type": "code",
   "execution_count": 17,
   "id": "4292a8e9",
   "metadata": {},
   "outputs": [
    {
     "name": "stdout",
     "output_type": "stream",
     "text": [
      "condition: exper_video, inferred_duration: 420.0, actual_duration=480\n",
      "condition: familiar_music, inferred_duration: 240.0, actual_duration=300\n",
      "condition: family_inter, inferred_duration: 240.0, actual_duration=300\n",
      "condition: tchaikovsky, inferred_duration: 240.0, actual_duration=300\n",
      "condition: wildlife_video, inferred_duration: 240.0, actual_duration=300\n"
     ]
    }
   ],
   "source": [
    "# check inferred times match with true times\n",
    "participant = 'VG_01'\n",
    "timeformat = '%H:%M:%S'\n",
    "from datetime import datetime\n",
    "event_details = pd.read_csv('../data/CARE_HOME_DATA/event_details.csv')\n",
    "label_mapping.sort()\n",
    "for condition_id, condition_name in enumerate(label_mapping):\n",
    "    focaldf = featureddf[(featureddf['participant']== participant)&(featureddf['condition']== condition_id)]\n",
    "    max_index = focaldf['window index'].max()\n",
    "    inferred_duration = max_index*window_step/sample_rate + window_duration\n",
    "    filter_ = event_details['partID'] == participant\n",
    "    filter_ &= event_details['event'] == condition_name\n",
    "    start_end = event_details.loc[filter_,['start','end']].to_numpy()[0]\n",
    "    t0  = datetime.strptime(start_end[0], timeformat)\n",
    "    t1  = datetime.strptime(start_end[1], timeformat)\n",
    "    delta = t1-t0\n",
    "    print(f\"condition: {condition_name}, inferred_duration: {inferred_duration}, actual_duration={delta.seconds}\")\n",
    "    if not np.isclose(inferred_duration+60, delta.seconds):\n",
    "        print(\"Ooops\")"
   ]
  },
  {
   "cell_type": "code",
   "execution_count": null,
   "id": "e7ca4250",
   "metadata": {},
   "outputs": [],
   "source": [
    "# sanity check that the range of times coincides with that derived from the ibi file\n",
    "inferred_times = featureddf.loc[featureddf['participant']==participant,'start time'].to_numpy().astype(float)\n",
    "ts_start = int(inferred_times[0])\n",
    "ts_end = int(inferred_times[-1])+window_duration\n",
    "dtformat = '%Y-%m-%d %H:%M:%S'\n",
    "\n",
    "start_str = datetime.utcfromtimestamp(ts_start).strftime(dtformat)\n",
    "end_str = datetime.utcfromtimestamp(ts_end).strftime(dtformat)\n",
    "print(f\"Inferred experimental window: {start_str}--{end_str}\")"
   ]
  },
  {
   "cell_type": "code",
   "execution_count": null,
   "id": "e5422386",
   "metadata": {},
   "outputs": [],
   "source": [
    "ibi_start = int(ibi_unix_times[0])\n",
    "ibi_end = int(ibi_unix_times[-1])\n",
    "start_str = datetime.utcfromtimestamp(ibi_start).strftime(dtformat)\n",
    "end_str = datetime.utcfromtimestamp(ibi_end).strftime(dtformat)\n",
    "print(f\"IBI experimental window: {start_str}--{end_str}\")\n"
   ]
  },
  {
   "cell_type": "code",
   "execution_count": 42,
   "id": "b056fc6d",
   "metadata": {},
   "outputs": [
    {
     "name": "stdout",
     "output_type": "stream",
     "text": [
      "np.min(values) = 0.36787944117144233\n",
      "np.min(values) = 0.36787944117144233\n"
     ]
    },
    {
     "data": {
      "text/plain": [
       "([<matplotlib.axis.XTick at 0x7f4bfc443f70>,\n",
       "  <matplotlib.axis.XTick at 0x7f4bfc443f40>,\n",
       "  <matplotlib.axis.XTick at 0x7f4bfe3edcc0>,\n",
       "  <matplotlib.axis.XTick at 0x7f4bfc2cc4f0>,\n",
       "  <matplotlib.axis.XTick at 0x7f4bfc2cc970>,\n",
       "  <matplotlib.axis.XTick at 0x7f4bfc2cd0c0>,\n",
       "  <matplotlib.axis.XTick at 0x7f4bfc2cd810>,\n",
       "  <matplotlib.axis.XTick at 0x7f4bfc2cdf60>,\n",
       "  <matplotlib.axis.XTick at 0x7f4bfc2ce6b0>,\n",
       "  <matplotlib.axis.XTick at 0x7f4bfc2cee00>],\n",
       " [Text(-0.6000000000000001, 0, '0.25'),\n",
       "  Text(-0.4000000000000001, 0, '0.40'),\n",
       "  Text(-0.20000000000000007, 0, '0.63'),\n",
       "  Text(0.0, 0, '1.00'),\n",
       "  Text(0.19999999999999996, 0, '1.58'),\n",
       "  Text(0.3999999999999999, 0, '2.51'),\n",
       "  Text(0.6000000000000001, 0, '3.98'),\n",
       "  Text(0.8, 0, '6.31'),\n",
       "  Text(1.0, 0, '10.00'),\n",
       "  Text(1.2, 0, '15.85')])"
      ]
     },
     "execution_count": 42,
     "metadata": {},
     "output_type": "execute_result"
    },
    {
     "data": {
      "image/png": "[encoded data removed]",
      "text/plain": [
       "<Figure size 640x480 with 1 Axes>"
      ]
     },
     "metadata": {},
     "output_type": "display_data"
    }
   ],
   "source": [
    "# let's have a look at the normed_rmssds we calculate\n",
    "values = normed_rmssds.flatten()\n",
    "print(f\"np.min(values) = {np.min(values)}\")\n",
    "values[values == 0] = np.exp(-1)\n",
    "print(f\"np.min(values) = {np.min(values)}\")\n",
    "plt.hist(np.log10(values), bins=30)\n",
    "xticks, labels =  plt.xticks()\n",
    "# base10ticks = xticks/np.log(10)\n",
    "base10labels = [f\"{t:.2f}\" for t in 10**xticks ]\n",
    "plt.xticks(xticks,base10labels)\n",
    "# /plt.xticks(xticks, np.exp(xticks))\n",
    "# plt.xscale('log')"
   ]
  },
  {
   "cell_type": "code",
   "execution_count": 29,
   "id": "5682cf18",
   "metadata": {},
   "outputs": [
    {
     "data": {
      "text/plain": [
       "array([-1.5, -1. , -0.5,  0. ,  0.5,  1. ,  1.5,  2. ,  2.5,  3. ])"
      ]
     },
     "execution_count": 29,
     "metadata": {},
     "output_type": "execute_result"
    }
   ],
   "source": [
    "xticks"
   ]
  },
  {
   "cell_type": "code",
   "execution_count": 30,
   "id": "32a005f4",
   "metadata": {},
   "outputs": [
    {
     "data": {
      "text/plain": [
       "[Text(-1.5, 0, '−1.5'),\n",
       " Text(-1.0, 0, '−1.0'),\n",
       " Text(-0.5, 0, '−0.5'),\n",
       " Text(0.0, 0, '0.0'),\n",
       " Text(0.5, 0, '0.5'),\n",
       " Text(1.0, 0, '1.0'),\n",
       " Text(1.5, 0, '1.5'),\n",
       " Text(2.0, 0, '2.0'),\n",
       " Text(2.5, 0, '2.5'),\n",
       " Text(3.0, 0, '3.0')]"
      ]
     },
     "execution_count": 30,
     "metadata": {},
     "output_type": "execute_result"
    }
   ],
   "source": [
    "labels"
   ]
  },
  {
   "cell_type": "code",
   "execution_count": null,
   "id": "59e478b9",
   "metadata": {},
   "outputs": [],
   "source": []
  }
 ],
 "metadata": {
  "kernelspec": {
   "display_name": "Python 3 (ipykernel)",
   "language": "python",
   "name": "python3"
  },
  "language_info": {
   "codemirror_mode": {
    "name": "ipython",
    "version": 3
   },
   "file_extension": ".py",
   "mimetype": "text/x-python",
   "name": "python",
   "nbconvert_exporter": "python",
   "pygments_lexer": "ipython3",
   "version": "3.10.12"
  }
 },
 "nbformat": 4,
 "nbformat_minor": 5
}
