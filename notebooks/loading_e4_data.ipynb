{
 "cells": [
  {
   "cell_type": "code",
   "execution_count": 1,
   "id": "44acde52",
   "metadata": {},
   "outputs": [],
   "source": [
    "import json\n",
    "import pandas as pd\n",
    "import numpy as np\n",
    "import matplotlib.pyplot as plt\n",
    "from matplotlib import colors\n",
    "import scipy as sp\n",
    "import scipy.stats\n",
    "import pandas as pd\n",
    "import numpy as np\n",
    "from tqdm import tqdm\n",
    "import itertools\n",
    "import re\n",
    "res_digit = r'[0-9]'\n",
    "\n",
    "import mne\n",
    "import json\n",
    "\n"
   ]
  },
  {
   "cell_type": "code",
   "execution_count": 2,
   "id": "832db706",
   "metadata": {},
   "outputs": [
    {
     "name": "stdout",
     "output_type": "stream",
     "text": [
      "thisdir = /home/luke/git/external/predicament/notebooks\n",
      "Adding parent directory to python path\n",
      "sys.path =\n",
      "['/home/luke/git/external/predicament/notebooks', '/home/luke/git/external/predicament', '/usr/lib/python310.zip', '/usr/lib/python3.10', '/usr/lib/python3.10/lib-dynload', '', '/home/luke/.local/lib/python3.10/site-packages', '/usr/local/lib/python3.10/dist-packages', '/usr/lib/python3/dist-packages', '/usr/lib/python3.10/dist-packages']\n"
     ]
    }
   ],
   "source": [
    "# This is a hack to make the library in the parent folder available for imoprts\n",
    "# A better solution is by np8 here:\n",
    "# https://stackoverflow.com/questions/714063/importing-modules-from-parent-folder\n",
    "import sys\n",
    "import os\n",
    "import inspect\n",
    "\n",
    "thisdir = sys.path[0]\n",
    "print(f\"thisdir = {thisdir}\")\n",
    "parentdir = os.path.dirname(thisdir)\n",
    "#print(f\"parentdir = {parentdir}\")\n",
    "if not parentdir in sys.path:\n",
    "    print(\"Adding parent directory to python path\")\n",
    "    sys.path.insert(1, parentdir)\n",
    "else:\n",
    "    print(\"Skipping adding parent direct to path (there already)\")\n",
    "\n",
    "print(f\"sys.path =\\n{sys.path}\")\n",
    "\n",
    "\n"
   ]
  },
  {
   "cell_type": "code",
   "execution_count": 3,
   "id": "28f17581",
   "metadata": {},
   "outputs": [],
   "source": [
    "## ensure relative path to data directory is sound\n",
    "# for the notebook we need to modify the BASE_DATA_FOLDER\n",
    "import os \n",
    "os.environ['PREDICAMENT_DATA_DIR'] =  '../data'\n",
    "\n",
    "from predicament.utils.config import DREEM_EEG_CHANNELS\n",
    "from predicament.utils.config import STUDY_DATA_FOLDER\n",
    "from predicament.utils.config import E4_LOCAL_DIRPATHS\n",
    "from predicament.utils.config import E4_CSV_FILES\n",
    "\n",
    "from predicament.data.timeseries import load_E4_csv_data\n",
    "from predicament.data.timeseries import merge_E4_csv_data\n",
    "from predicament.data.timeseries import create_participant_data_E4_only\n",
    "from predicament.data.timeseries import create_participant_data\n",
    "\n",
    "from predicament.data.timeseries import create_participant_data_edf_only\n",
    "from predicament.data.windowed import window_all_participants_data\n",
    "from predicament.data.windowed import merge_condition_data\n",
    "from predicament.data.partitioning import between_subject_cv_partition\n"
   ]
  },
  {
   "cell_type": "code",
   "execution_count": 4,
   "id": "1620da0d",
   "metadata": {},
   "outputs": [
    {
     "data": {
      "text/plain": [
       "{'VG_01': '../data/CARE_HOME_DATA/./VG01/E4_8921_15_44/',\n",
       " 'VG_03': '../data/CARE_HOME_DATA/./VG03/E4_9921_12_16/',\n",
       " 'VG_05': '../data/CARE_HOME_DATA/./VG05/E4_9921_13_24/',\n",
       " 'VG_06': '../data/CARE_HOME_DATA/./VG06/E4_51021_13_33/',\n",
       " 'VG_07': '../data/CARE_HOME_DATA/./VG07/E4_51021_15_39/',\n",
       " 'VG_08': '../data/CARE_HOME_DATA/./VG08/E4_71021_10_42/',\n",
       " 'VG_09': '../data/CARE_HOME_DATA/./VG09/E4_11221_14_46/',\n",
       " 'VG_10': '../data/CARE_HOME_DATA/./VG10/E4_31221_11_17/',\n",
       " 'VH_01': '../data/CARE_HOME_DATA/./VH01/E4_61021_11_03/',\n",
       " 'VH_02': '../data/CARE_HOME_DATA/./VH02/E4_61021_13_59/',\n",
       " 'VH_03': '../data/CARE_HOME_DATA/./VH03/E4_11221_11_22/'}"
      ]
     },
     "execution_count": 4,
     "metadata": {},
     "output_type": "execute_result"
    }
   ],
   "source": [
    "\n",
    "E4_full_dirpaths = {\n",
    "    part_ID: os.path.join(STUDY_DATA_FOLDER,local_path)\n",
    "        for part_ID, local_path in E4_LOCAL_DIRPATHS.items() }\n",
    "E4_full_dirpaths"
   ]
  },
  {
   "cell_type": "code",
   "execution_count": 5,
   "id": "ac3eab92",
   "metadata": {},
   "outputs": [
    {
     "data": {
      "text/plain": [
       "['TEMP.csv', 'EDA.csv', 'BVP.csv', 'ACC.csv', 'IBI.csv', 'HR.csv']"
      ]
     },
     "execution_count": 5,
     "metadata": {},
     "output_type": "execute_result"
    }
   ],
   "source": [
    "E4_CSV_FILES"
   ]
  },
  {
   "cell_type": "code",
   "execution_count": 6,
   "id": "76069d65",
   "metadata": {},
   "outputs": [
    {
     "name": "stdout",
     "output_type": "stream",
     "text": [
      "csv_fname = TEMP.csv\n",
      "csv_fname = EDA.csv\n",
      "csv_fname = BVP.csv\n",
      "csv_fname = ACC.csv\n",
      "csv_fname = HR.csv\n",
      "csv_fname = TEMP.csv\n",
      "start_time = 1631112276\n",
      "sample_rate = 4\n",
      "timeseries.shape = (1, 14784)\n",
      "timeseries = [[33.21 33.21 33.21 ... 32.55 32.55 32.55]]\n",
      "\n",
      "csv_fname = EDA.csv\n",
      "start_time = 1631112276\n",
      "sample_rate = 4\n",
      "timeseries.shape = (1, 14784)\n",
      "timeseries = [[0.       0.005125 0.002563 ... 0.007688 0.005125 0.007688]]\n",
      "\n",
      "csv_fname = BVP.csv\n",
      "start_time = 1631112276\n",
      "sample_rate = 64\n",
      "timeseries.shape = (1, 236533)\n",
      "timeseries = [[-0.   -0.   -0.   ... 27.15 25.4  23.94]]\n",
      "\n",
      "csv_fname = ACC.csv\n",
      "start_time = 1631112276\n",
      "sample_rate = 32\n",
      "timeseries.shape = (3, 118272)\n",
      "timeseries = [[-2.  1. -7. ... 23. 22. 22.]\n",
      " [25. 31. 31. ... 26. 26. 26.]\n",
      " [56. 53. 55. ... 52. 52. 52.]]\n",
      "\n",
      "csv_fname = HR.csv\n",
      "start_time = 1631112286\n",
      "sample_rate = 1\n",
      "timeseries.shape = (1, 3686)\n",
      "timeseries = [[67.   67.   93.   ... 74.32 74.63 74.93]]\n",
      "\n"
     ]
    }
   ],
   "source": [
    "full_dirpath = E4_full_dirpaths['VG_01']\n",
    "\n",
    "csv_data = load_E4_csv_data(full_dirpath, csv_files=E4_CSV_FILES)\n",
    "for k, v in csv_data.items():\n",
    "    print(f\"csv_fname = {k}\")\n",
    "    print(f\"start_time = {v['start_time']}\")\n",
    "    print(f\"sample_rate = {v['sample_rate']}\")\n",
    "    print(f\"timeseries.shape = {v['timeseries'].shape}\")\n",
    "    print(f\"timeseries = {v['timeseries']}\")\n",
    "    print()"
   ]
  },
  {
   "cell_type": "code",
   "execution_count": 7,
   "id": "91995c3a",
   "metadata": {},
   "outputs": [
    {
     "name": "stdout",
     "output_type": "stream",
     "text": [
      "std_start_time = 1631112276\n",
      "channel_names = ['temp', 'eda', 'bvp', 'acc0', 'acc1', 'acc2', 'hr']\n",
      "sample_rate = 64\n",
      "data.shape = (7, 235264)\n",
      "data = [[ 3.32100000e+01  3.32391567e+01  3.32637518e+01 ...  3.41289946e+01\n",
      "   3.40908906e+01  3.40578398e+01]\n",
      " [-1.04582048e-15  1.87466145e-04  4.57271777e-04 ...  3.41908935e-04\n",
      "   1.55837801e-04  4.14152420e-05]\n",
      " [-0.00000000e+00 -0.00000000e+00 -0.00000000e+00 ...  2.49730000e+02\n",
      "   2.99870000e+02  3.46430000e+02]\n",
      " ...\n",
      " [ 2.50000000e+01  2.66135420e+01  3.10000000e+01 ...  6.27237733e+01\n",
      "   5.70000000e+01  4.03789309e+01]\n",
      " [ 5.60000000e+01  5.49431259e+01  5.30000000e+01 ... -4.10299957e+01\n",
      "  -4.40000000e+01 -4.50049822e+01]\n",
      " [ 8.82700000e+01  8.82926913e+01  8.83153148e+01 ...  6.76226974e+01\n",
      "   6.74146034e+01  6.72069481e+01]]\n"
     ]
    }
   ],
   "source": [
    "\n",
    "data, channel_names, sample_rate, std_start_time = merge_E4_csv_data(csv_data, csv_files=E4_CSV_FILES)\n",
    "print(f\"std_start_time = {std_start_time}\")\n",
    "print(f\"channel_names = {channel_names}\")\n",
    "print(f\"sample_rate = {sample_rate}\")\n",
    "print(f\"data.shape = {data.shape}\")\n",
    "print(f\"data = {data}\")"
   ]
  },
  {
   "cell_type": "code",
   "execution_count": 8,
   "id": "d2427b81",
   "metadata": {},
   "outputs": [
    {
     "name": "stdout",
     "output_type": "stream",
     "text": [
      "VG_01:setup is valid but timestamps have issues. What does valid mean?\n",
      "VG_01:baseline is valid but timestamps have issues. What does valid mean?\n",
      "VG_06:takeoff_EEG is valid but timestamps have issues. What does valid mean?\n",
      "VG_07:takeoff_EEG is valid but timestamps have issues. What does valid mean?\n",
      "VG_08:family_inter is valid but timestamps have issues. What does valid mean?\n",
      "VG_10:setup is valid but timestamps have issues. What does valid mean?\n",
      "VG_10:takeoff_EEG is valid but timestamps have issues. What does valid mean?\n",
      "VH_01:family_inter is valid but timestamps have issues. What does valid mean?\n"
     ]
    },
    {
     "name": "stderr",
     "output_type": "stream",
     "text": [
      "  9%|███████████▎                                                                                                                | 1/11 [00:00<00:01,  8.08it/s]"
     ]
    },
    {
     "name": "stdout",
     "output_type": "stream",
     "text": [
      "loading directory: ../data/CARE_HOME_DATA/./VG01/E4_8921_15_44/\n",
      "csv_fname = TEMP.csv\n",
      "csv_fname = EDA.csv\n",
      "csv_fname = BVP.csv\n",
      "csv_fname = ACC.csv\n",
      "csv_fname = HR.csv\n",
      "Successfully loaded E4 data for VG_01 .\n",
      "loading directory: ../data/CARE_HOME_DATA/./VG03/E4_9921_12_16/\n",
      "csv_fname = TEMP.csv\n",
      "csv_fname = EDA.csv\n",
      "csv_fname = BVP.csv\n",
      "csv_fname = ACC.csv\n",
      "csv_fname = HR.csv\n"
     ]
    },
    {
     "name": "stderr",
     "output_type": "stream",
     "text": [
      "\r",
      " 27%|█████████████████████████████████▊                                                                                          | 3/11 [00:00<00:01,  7.85it/s]"
     ]
    },
    {
     "name": "stdout",
     "output_type": "stream",
     "text": [
      "Successfully loaded E4 data for VG_03 .\n",
      "loading directory: ../data/CARE_HOME_DATA/./VG05/E4_9921_13_24/\n",
      "csv_fname = TEMP.csv\n",
      "csv_fname = EDA.csv\n",
      "csv_fname = BVP.csv\n",
      "csv_fname = ACC.csv\n",
      "csv_fname = HR.csv\n",
      "Successfully loaded E4 data for VG_05 .\n",
      "loading directory: ../data/CARE_HOME_DATA/./VG06/E4_51021_13_33/\n",
      "csv_fname = TEMP.csv\n",
      "csv_fname = EDA.csv\n",
      "csv_fname = BVP.csv\n",
      "csv_fname = ACC.csv\n",
      "csv_fname = HR.csv\n"
     ]
    },
    {
     "name": "stderr",
     "output_type": "stream",
     "text": [
      "\r",
      " 36%|█████████████████████████████████████████████                                                                               | 4/11 [00:00<00:01,  5.45it/s]"
     ]
    },
    {
     "name": "stdout",
     "output_type": "stream",
     "text": [
      "Successfully loaded E4 data for VG_06 .\n",
      "loading directory: ../data/CARE_HOME_DATA/./VG07/E4_51021_15_39/\n",
      "csv_fname = TEMP.csv\n",
      "csv_fname = EDA.csv\n",
      "csv_fname = BVP.csv\n",
      "csv_fname = ACC.csv\n",
      "csv_fname = HR.csv\n",
      "Successfully loaded E4 data for VG_07 .\n",
      "loading directory: ../data/CARE_HOME_DATA/./VG08/E4_71021_10_42/\n",
      "csv_fname = TEMP.csv\n",
      "csv_fname = EDA.csv\n",
      "csv_fname = BVP.csv\n",
      "csv_fname = ACC.csv\n",
      "csv_fname = HR.csv\n"
     ]
    },
    {
     "name": "stderr",
     "output_type": "stream",
     "text": [
      "\r",
      " 55%|███████████████████████████████████████████████████████████████████▋                                                        | 6/11 [00:00<00:00,  6.23it/s]"
     ]
    },
    {
     "name": "stdout",
     "output_type": "stream",
     "text": [
      "Successfully loaded E4 data for VG_08 .\n",
      "loading directory: ../data/CARE_HOME_DATA/./VG09/E4_11221_14_46/\n",
      "csv_fname = TEMP.csv\n",
      "csv_fname = EDA.csv\n",
      "csv_fname = BVP.csv\n",
      "csv_fname = ACC.csv\n",
      "csv_fname = HR.csv\n"
     ]
    },
    {
     "name": "stderr",
     "output_type": "stream",
     "text": [
      "\r",
      " 64%|██████████████████████████████████████████████████████████████████████████████▉                                             | 7/11 [00:01<00:00,  4.12it/s]"
     ]
    },
    {
     "name": "stdout",
     "output_type": "stream",
     "text": [
      "Successfully loaded E4 data for VG_09 .\n",
      "loading directory: ../data/CARE_HOME_DATA/./VG10/E4_31221_11_17/\n",
      "csv_fname = TEMP.csv\n",
      "csv_fname = EDA.csv\n",
      "csv_fname = BVP.csv\n",
      "csv_fname = ACC.csv\n",
      "csv_fname = HR.csv\n"
     ]
    },
    {
     "name": "stderr",
     "output_type": "stream",
     "text": [
      "\r",
      " 73%|██████████████████████████████████████████████████████████████████████████████████████████▏                                 | 8/11 [00:01<00:00,  3.76it/s]"
     ]
    },
    {
     "name": "stdout",
     "output_type": "stream",
     "text": [
      "Successfully loaded E4 data for VG_10 .\n",
      "loading directory: ../data/CARE_HOME_DATA/./VH01/E4_61021_11_03/\n",
      "csv_fname = TEMP.csv\n",
      "csv_fname = EDA.csv\n",
      "csv_fname = BVP.csv\n",
      "csv_fname = ACC.csv\n",
      "csv_fname = HR.csv\n"
     ]
    },
    {
     "name": "stderr",
     "output_type": "stream",
     "text": [
      "\r",
      " 82%|█████████████████████████████████████████████████████████████████████████████████████████████████████▍                      | 9/11 [00:02<00:00,  3.13it/s]"
     ]
    },
    {
     "name": "stdout",
     "output_type": "stream",
     "text": [
      "Successfully loaded E4 data for VH_01 .\n",
      "loading directory: ../data/CARE_HOME_DATA/./VH02/E4_61021_13_59/\n",
      "csv_fname = TEMP.csv\n",
      "csv_fname = EDA.csv\n",
      "csv_fname = BVP.csv\n",
      "csv_fname = ACC.csv\n",
      "csv_fname = HR.csv\n"
     ]
    },
    {
     "name": "stderr",
     "output_type": "stream",
     "text": [
      "\r",
      " 91%|███████████████████████████████████████████████████████████████████████████████████████████████████████████████▊           | 10/11 [00:04<00:00,  1.05it/s]"
     ]
    },
    {
     "name": "stdout",
     "output_type": "stream",
     "text": [
      "Successfully loaded E4 data for VH_02 .\n",
      "loading directory: ../data/CARE_HOME_DATA/./VH03/E4_11221_11_22/\n",
      "csv_fname = TEMP.csv\n",
      "csv_fname = EDA.csv\n",
      "csv_fname = BVP.csv\n",
      "csv_fname = ACC.csv\n",
      "csv_fname = HR.csv\n"
     ]
    },
    {
     "name": "stderr",
     "output_type": "stream",
     "text": [
      "100%|███████████████████████████████████████████████████████████████████████████████████████████████████████████████████████████| 11/11 [00:05<00:00,  2.20it/s]"
     ]
    },
    {
     "name": "stdout",
     "output_type": "stream",
     "text": [
      "Successfully loaded E4 data for VH_03 .\n"
     ]
    },
    {
     "name": "stderr",
     "output_type": "stream",
     "text": [
      "\n"
     ]
    }
   ],
   "source": [
    "all_participants_data = create_participant_data_E4_only()\n"
   ]
  },
  {
   "cell_type": "markdown",
   "id": "34cdb886",
   "metadata": {},
   "source": [
    "## Data description\n",
    "\n",
    "From the file '/CARE_HOME_DATA/VG01/E4_8921_15_44/info.txt':\n",
    "\n",
    ".csv files in this archive are in the following format:\n",
    "The first row is the initial time of the session expressed as unix timestamp in UTC.\n",
    "The second row is the sample rate expressed in Hz.\n",
    "\n",
    "TEMP.csv\n",
    "Data from temperature sensor expressed degrees on the Celsius (°C) scale.\n",
    "\n",
    "EDA.csv\n",
    "Data from the electrodermal activity sensor expressed as microsiemens (μS).\n",
    "\n",
    "BVP.csv\n",
    "Data from photoplethysmograph.\n",
    "\n",
    "ACC.csv\n",
    "Data from 3-axis accelerometer sensor. The accelerometer is configured to measure acceleration in the range [-2g, 2g]. Therefore the unit in this file is 1/64g.\n",
    "Data from x, y, and z axis are respectively in first, second, and third column.\n",
    "\n",
    "IBI.csv\n",
    "Time between individuals heart beats extracted from the BVP signal.\n",
    "No sample rate is needed for this file.\n",
    "The first column is the time (respect to the initial time) of the detected inter-beat interval expressed in seconds (s).\n",
    "The second column is the duration in seconds (s) of the detected inter-beat interval (i.e., the distance in seconds from the previous beat).\n",
    "\n",
    "HR.csv\n",
    "Average heart rate extracted from the BVP signal.The first row is the initial time of the session expressed as unix timestamp in UTC.\n",
    "The second row is the sample rate expressed in Hz.\n",
    "\n",
    "\n",
    "tags.csv\n",
    "Event mark times.\n",
    "Each row corresponds to a physical button press on the device; the same time as the status LED is first illuminated.\n",
    "The time is expressed as a unix timestamp in UTC and it is synchronized with initial time of the session indicated in the related data files from the corresponding session."
   ]
  },
  {
   "cell_type": "code",
   "execution_count": 13,
   "id": "2e79d58d",
   "metadata": {},
   "outputs": [
    {
     "data": {
      "text/plain": [
       "{'setup': {'start': 1631112720.0, 'end': None, 'valid': True},\n",
       " 'baseline': {'start': 1631112720.0, 'end': None, 'valid': True},\n",
       " 'exper_video': {'start': 1631113320.0, 'end': 1631113800.0, 'valid': True},\n",
       " 'wildlife_video': {'start': 1631112960.0, 'end': 1631113260.0, 'valid': True},\n",
       " 'familiar_music': {'start': 1631114160.0, 'end': 1631114460.0, 'valid': True},\n",
       " 'tchaikovsky': {'start': 1631113860.0, 'end': 1631114160.0, 'valid': True},\n",
       " 'family_inter': {'start': 1631114520.0, 'end': 1631114820.0, 'valid': True}}"
      ]
     },
     "execution_count": 13,
     "metadata": {},
     "output_type": "execute_result"
    }
   ],
   "source": [
    "all_participants_data['VG_01'].event_details.events_info"
   ]
  },
  {
   "cell_type": "code",
   "execution_count": 16,
   "id": "2d12dc4b",
   "metadata": {},
   "outputs": [
    {
     "data": {
      "text/plain": [
       "1631112276"
      ]
     },
     "execution_count": 16,
     "metadata": {},
     "output_type": "execute_result"
    }
   ],
   "source": [
    "all_participants_data['VG_01'].event_details.exp_start_time"
   ]
  },
  {
   "cell_type": "code",
   "execution_count": null,
   "id": "5a738226",
   "metadata": {},
   "outputs": [],
   "source": []
  }
 ],
 "metadata": {
  "kernelspec": {
   "display_name": "Python 3 (ipykernel)",
   "language": "python",
   "name": "python3"
  },
  "language_info": {
   "codemirror_mode": {
    "name": "ipython",
    "version": 3
   },
   "file_extension": ".py",
   "mimetype": "text/x-python",
   "name": "python",
   "nbconvert_exporter": "python",
   "pygments_lexer": "ipython3",
   "version": "3.10.12"
  }
 },
 "nbformat": 4,
 "nbformat_minor": 5
}
