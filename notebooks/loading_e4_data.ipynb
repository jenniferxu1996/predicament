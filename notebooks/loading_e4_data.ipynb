{
 "cells": [
  {
   "cell_type": "markdown",
   "id": "35c4d587",
   "metadata": {},
   "source": [
    "This is a live notebook with experimental code to develop functionality for loading E4 data."
   ]
  },
  {
   "cell_type": "code",
   "execution_count": null,
   "id": "44acde52",
   "metadata": {},
   "outputs": [],
   "source": [
    "import json\n",
    "import pandas as pd\n",
    "import numpy as np\n",
    "import matplotlib.pyplot as plt\n",
    "from matplotlib import colors\n",
    "import scipy as sp\n",
    "import scipy.stats\n",
    "import pandas as pd\n",
    "import numpy as np\n",
    "from tqdm import tqdm\n",
    "import itertools\n",
    "import re\n",
    "res_digit = r'[0-9]'\n",
    "\n",
    "import mne\n",
    "import json\n",
    "\n"
   ]
  },
  {
   "cell_type": "code",
   "execution_count": null,
   "id": "832db706",
   "metadata": {},
   "outputs": [],
   "source": [
    "# This is a hack to make the library in the parent folder available for imoprts\n",
    "# A better solution is by np8 here:\n",
    "# https://stackoverflow.com/questions/714063/importing-modules-from-parent-folder\n",
    "import sys\n",
    "import os\n",
    "import inspect\n",
    "\n",
    "thisdir = sys.path[0]\n",
    "print(f\"thisdir = {thisdir}\")\n",
    "parentdir = os.path.dirname(thisdir)\n",
    "#print(f\"parentdir = {parentdir}\")\n",
    "if not parentdir in sys.path:\n",
    "    print(\"Adding parent directory to python path\")\n",
    "    sys.path.insert(1, parentdir)\n",
    "else:\n",
    "    print(\"Skipping adding parent direct to path (there already)\")\n",
    "\n",
    "print(f\"sys.path =\\n{sys.path}\")\n",
    "\n",
    "\n"
   ]
  },
  {
   "cell_type": "code",
   "execution_count": null,
   "id": "28f17581",
   "metadata": {},
   "outputs": [],
   "source": [
    "## ensure relative path to data directory is sound\n",
    "# for the notebook we need to modify the BASE_DATA_FOLDER\n",
    "import os \n",
    "os.environ['PREDICAMENT_DATA_DIR'] =  '../data'\n",
    "\n",
    "from predicament.utils.config import DREEM_EEG_CHANNELS\n",
    "from predicament.utils.config import STUDY_DATA_FOLDER\n",
    "from predicament.utils.config import E4_LOCAL_DIRPATHS\n",
    "from predicament.utils.config import E4_CSV_FILES\n",
    "\n",
    "from predicament.data.timeseries import load_E4_csv_data\n",
    "from predicament.data.timeseries import merge_E4_csv_data\n",
    "from predicament.data.timeseries import create_participant_data_E4_only\n",
    "from predicament.data.timeseries import create_participant_data\n",
    "\n",
    "from predicament.data.timeseries import create_participant_data_edf_only\n",
    "from predicament.data.windowed import window_all_participants_data\n",
    "from predicament.data.windowed import merge_condition_data\n",
    "from predicament.data.partitioning import between_subject_cv_partition\n"
   ]
  },
  {
   "cell_type": "code",
   "execution_count": null,
   "id": "1620da0d",
   "metadata": {},
   "outputs": [],
   "source": [
    "\n",
    "E4_full_dirpaths = {\n",
    "    participant: os.path.join(STUDY_DATA_FOLDER,local_path)\n",
    "        for participant, local_path in E4_LOCAL_DIRPATHS.items() }\n",
    "E4_full_dirpaths"
   ]
  },
  {
   "cell_type": "code",
   "execution_count": null,
   "id": "ac3eab92",
   "metadata": {},
   "outputs": [],
   "source": [
    "E4_CSV_FILES"
   ]
  },
  {
   "cell_type": "code",
   "execution_count": null,
   "id": "76069d65",
   "metadata": {},
   "outputs": [],
   "source": [
    "full_dirpath = E4_full_dirpaths['VG_01']\n",
    "\n",
    "csv_data = load_E4_csv_data(full_dirpath, csv_files=E4_CSV_FILES)\n",
    "for k, v in csv_data.items():\n",
    "    print(f\"csv_fname = {k}\")\n",
    "    print(f\"start_time = {v['start_time']}\")\n",
    "    print(f\"sample_rate = {v['sample_rate']}\")\n",
    "    print(f\"timeseries.shape = {v['timeseries'].shape}\")\n",
    "    print(f\"timeseries = {v['timeseries']}\")\n",
    "    print()"
   ]
  },
  {
   "cell_type": "code",
   "execution_count": null,
   "id": "91995c3a",
   "metadata": {},
   "outputs": [],
   "source": [
    "\n",
    "data, channel_names, sample_rate, std_start_time = merge_E4_csv_data(csv_data, csv_files=E4_CSV_FILES)\n",
    "print(f\"std_start_time = {std_start_time}\")\n",
    "print(f\"channel_names = {channel_names}\")\n",
    "print(f\"sample_rate = {sample_rate}\")\n",
    "print(f\"data.shape = {data.shape}\")\n",
    "print(f\"data = {data}\")"
   ]
  },
  {
   "cell_type": "code",
   "execution_count": null,
   "id": "d2427b81",
   "metadata": {},
   "outputs": [],
   "source": [
    "all_participants_data = create_participant_data_E4_only()\n"
   ]
  },
  {
   "cell_type": "markdown",
   "id": "34cdb886",
   "metadata": {},
   "source": [
    "## Data description\n",
    "\n",
    "From the file '/CARE_HOME_DATA/VG01/E4_8921_15_44/info.txt':\n",
    "\n",
    ".csv files in this archive are in the following format:\n",
    "The first row is the initial time of the session expressed as unix timestamp in UTC.\n",
    "The second row is the sample rate expressed in Hz.\n",
    "\n",
    "TEMP.csv\n",
    "Data from temperature sensor expressed degrees on the Celsius (°C) scale.\n",
    "\n",
    "EDA.csv\n",
    "Data from the electrodermal activity sensor expressed as microsiemens (μS).\n",
    "\n",
    "BVP.csv\n",
    "Data from photoplethysmograph.\n",
    "\n",
    "ACC.csv\n",
    "Data from 3-axis accelerometer sensor. The accelerometer is configured to measure acceleration in the range [-2g, 2g]. Therefore the unit in this file is 1/64g.\n",
    "Data from x, y, and z axis are respectively in first, second, and third column.\n",
    "\n",
    "IBI.csv\n",
    "Time between individuals heart beats extracted from the BVP signal.\n",
    "No sample rate is needed for this file.\n",
    "The first column is the time (respect to the initial time) of the detected inter-beat interval expressed in seconds (s).\n",
    "The second column is the duration in seconds (s) of the detected inter-beat interval (i.e., the distance in seconds from the previous beat).\n",
    "\n",
    "HR.csv\n",
    "Average heart rate extracted from the BVP signal.The first row is the initial time of the session expressed as unix timestamp in UTC.\n",
    "The second row is the sample rate expressed in Hz.\n",
    "\n",
    "\n",
    "tags.csv\n",
    "Event mark times.\n",
    "Each row corresponds to a physical button press on the device; the same time as the status LED is first illuminated.\n",
    "The time is expressed as a unix timestamp in UTC and it is synchronized with initial time of the session indicated in the related data files from the corresponding session."
   ]
  },
  {
   "cell_type": "code",
   "execution_count": null,
   "id": "2e79d58d",
   "metadata": {},
   "outputs": [],
   "source": [
    "all_participants_data['VG_01'].event_details.events_info"
   ]
  },
  {
   "cell_type": "code",
   "execution_count": null,
   "id": "2d12dc4b",
   "metadata": {},
   "outputs": [],
   "source": [
    "all_participants_data['VG_01'].event_details.exp_start_time"
   ]
  },
  {
   "cell_type": "code",
   "execution_count": null,
   "id": "5a738226",
   "metadata": {},
   "outputs": [],
   "source": []
  }
 ],
 "metadata": {
  "kernelspec": {
   "display_name": "Python 3 (ipykernel)",
   "language": "python",
   "name": "python3"
  },
  "language_info": {
   "codemirror_mode": {
    "name": "ipython",
    "version": 3
   },
   "file_extension": ".py",
   "mimetype": "text/x-python",
   "name": "python",
   "nbconvert_exporter": "python",
   "pygments_lexer": "ipython3",
   "version": "3.10.12"
  }
 },
 "nbformat": 4,
 "nbformat_minor": 5
}
