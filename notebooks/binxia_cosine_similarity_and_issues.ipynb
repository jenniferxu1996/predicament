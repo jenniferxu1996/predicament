{
 "cells": [
  {
   "cell_type": "markdown",
   "id": "906e0b9d",
   "metadata": {},
   "source": [
    "Imagine a ver large pair of vectors v1 and v2\n",
    " which can be partitioned into parts a and b $v_1 = (v_{1a}; v_{1b})$\n",
    " and $v_2 = (v_{2a}; v_{2b})$ where v1a, v2a \\in R^Da and v1b, v2b \\in R^Db\n",
    " and $D_a >> D_b$\n",
    " Let's also say that the Expected magnitude of an element in v1a, is \n",
    " approximately equal to the expected magnitude of an element in v1b\n",
    " E_{i~Uniform}[ v1b[i] ]\\approx E_{i~Uniform}[ v1a[i] ]"
   ]
  },
  {
   "cell_type": "markdown",
   "id": "eeebeaf8",
   "metadata": {},
   "source": [
    "Let's say that $v_{1a} \\approx v_{2a}$ (because these are features that\n",
    "relate to the context in which our experiment was conducted and\n",
    "the context is the same for both entities)\n",
    "\n",
    "$\\newcommand{\\norm}[1]{\\lVert #1 \\rVert}$\n",
    "\\begin{align}\n",
    "cosim(v_1, v_2)\n",
    "&= \\frac{v_1^T v_2}{\\norm{v_1} \\norm{v_2}}\n",
    "& = \\frac{v_{1a}^T v_{2a} + v_{1b}^T v_{2b}}{\n",
    "    (\\norm{v_{1a}} + \\norm{v_{1b}})(\\norm{v_{2a}} + \\norm{v_{2b}})}\n",
    "\\end{align}"
   ]
  },
  {
   "cell_type": "markdown",
   "id": "4d0e8300",
   "metadata": {},
   "source": [
    "Because $D_a \\gg D_b$, and expected element sizes are also equal, then we know\n",
    "$$v_{1a}^T v_{2a} \\gg v_{1b}^T v_{2b}$$\n",
    "And also from $v_{1a} \\approx v_{2a}$ we have $cosim(v_{1a}, v_{2a}) \\approx 1$\n",
    "\n",
    "So even if $cosim(v_{1b}, v_{2b}) \\approx 0$ it is still the case that $cosim(v_{1}, v_{2}) \\approx 1$"
   ]
  },
  {
   "cell_type": "code",
   "execution_count": null,
   "id": "c01ba4d5",
   "metadata": {},
   "outputs": [],
   "source": [
    "# imagine a ver large pair of vectors v1 and v2\n",
    "# which can be partitioned into parts a and b v1 = [v1a; v1b]\n",
    "# and v2 = [v2a; v2b] where v1a, v2a \\in R^Da and v1b, v2b \\in R^Db\n",
    "# and Da >> Db\n",
    "# Let's also say that the Expected magnitude of an element in v1a, is \n",
    "# approximately equal to the expected magnitude of an element in v1b\n",
    "# E_{i~Uniform}[ v1b[i] ]\\approx E_{i~Uniform}[ v1a[i] ]\n",
    "\n",
    "# Let's say that v1a \\approx v2a (because these are features that\n",
    "# relate to the context in which our experiment was conducted and\n",
    "# the context is the same for both entities)\n"
   ]
  }
 ],
 "metadata": {
  "kernelspec": {
   "display_name": "Python 3 (ipykernel)",
   "language": "python",
   "name": "python3"
  },
  "language_info": {
   "codemirror_mode": {
    "name": "ipython",
    "version": 3
   },
   "file_extension": ".py",
   "mimetype": "text/x-python",
   "name": "python",
   "nbconvert_exporter": "python",
   "pygments_lexer": "ipython3",
   "version": "3.10.12"
  }
 },
 "nbformat": 4,
 "nbformat_minor": 5
}
